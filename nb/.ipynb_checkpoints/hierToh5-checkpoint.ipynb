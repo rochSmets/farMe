{
 "cells": [
  {
   "cell_type": "code",
   "execution_count": 1,
   "id": "1ced55a2-4b46-432c-9f8e-e1b9d84736f9",
   "metadata": {
    "execution": {
     "iopub.execute_input": "2023-06-14T06:26:24.508515Z",
     "iopub.status.busy": "2023-06-14T06:26:24.508110Z",
     "iopub.status.idle": "2023-06-14T06:26:24.974020Z",
     "shell.execute_reply": "2023-06-14T06:26:24.973367Z",
     "shell.execute_reply.started": "2023-06-14T06:26:24.508496Z"
    },
    "tags": []
   },
   "outputs": [],
   "source": [
    "import sys\n",
    "import os\n",
    "sys.path.append(\"/home/smets/codes/far/PHARE/pyphare/\")\n",
    "import pyphare\n",
    "import matplotlib.pyplot as plt\n",
    "from pyphare.pharesee.run import Run\n",
    "import numpy as np\n",
    "%matplotlib widget"
   ]
  },
  {
   "cell_type": "code",
   "execution_count": null,
   "id": "6b5c96bc-5905-46d8-9154-7b5165b54411",
   "metadata": {},
   "outputs": [],
   "source": []
  }
 ],
 "metadata": {
  "kernelspec": {
   "display_name": "space/python3",
   "language": "python",
   "name": "conda-env-space-py"
  },
  "language_info": {
   "codemirror_mode": {
    "name": "ipython",
    "version": 3
   },
   "file_extension": ".py",
   "mimetype": "text/x-python",
   "name": "python",
   "nbconvert_exporter": "python",
   "pygments_lexer": "ipython3",
   "version": "3.10.10"
  }
 },
 "nbformat": 4,
 "nbformat_minor": 5
}
