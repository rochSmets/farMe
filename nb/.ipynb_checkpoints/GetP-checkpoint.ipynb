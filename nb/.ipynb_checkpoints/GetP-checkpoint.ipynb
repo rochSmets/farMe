{
 "cells": [
  {
   "cell_type": "code",
   "execution_count": 1,
   "id": "7c271b59-bf0b-490a-8d86-9fbd19d8fdef",
   "metadata": {
    "execution": {
     "iopub.execute_input": "2023-06-21T07:24:10.516239Z",
     "iopub.status.busy": "2023-06-21T07:24:10.515779Z",
     "iopub.status.idle": "2023-06-21T07:24:11.083400Z",
     "shell.execute_reply": "2023-06-21T07:24:11.082789Z",
     "shell.execute_reply.started": "2023-06-21T07:24:10.516221Z"
    },
    "tags": []
   },
   "outputs": [],
   "source": [
    "import sys\n",
    "import os\n",
    "sys.path.append(\"/home/smets/codes/far/PHARE/pyphare/\")\n",
    "import pyphare\n",
    "import matplotlib.pyplot as plt\n",
    "from pyphare.pharesee.run import Run\n",
    "import numpy as np\n",
    "%matplotlib widget"
   ]
  },
  {
   "cell_type": "code",
   "execution_count": 2,
   "id": "e683d0ac-4ac5-4127-868d-8b82d582021e",
   "metadata": {
    "execution": {
     "iopub.execute_input": "2023-06-21T07:24:11.560822Z",
     "iopub.status.busy": "2023-06-21T07:24:11.560485Z",
     "iopub.status.idle": "2023-06-21T07:24:11.564127Z",
     "shell.execute_reply": "2023-06-21T07:24:11.563683Z",
     "shell.execute_reply.started": "2023-06-21T07:24:11.560806Z"
    },
    "tags": []
   },
   "outputs": [
    {
     "data": {
      "text/plain": [
       "['EM_B.h5',\n",
       " 'EM_E.h5',\n",
       " 'harris-688134.log',\n",
       " 'harris.py',\n",
       " 'ions_bulkVelocity.h5',\n",
       " 'ions_density.h5',\n",
       " 'ions_pop_protons_density.h5',\n",
       " 'ions_pop_protons_domain.h5',\n",
       " 'ions_pop_protons_flux.h5',\n",
       " 'job.sh']"
      ]
     },
     "execution_count": 2,
     "metadata": {},
     "output_type": "execute_result"
    }
   ],
   "source": [
    "run_path = \"/DATA/phare/harris/tiny\"\n",
    "os.listdir(run_path)"
   ]
  },
  {
   "cell_type": "code",
   "execution_count": null,
   "id": "e6b7556f-a415-4f0c-babb-9274f4a420f6",
   "metadata": {
    "tags": []
   },
   "outputs": [],
   "source": [
    "import h5py\n",
    "\n",
    "f = h5py.File(os.path.join(run_path, 'ions_pop_protons_density.h5'), 'r')\n",
    "# print(list(f.keys()))\n",
    "# print(type(f['t']['0.0000000000']['pl0']['p0#0']['density']))\n",
    "# print(list(f.attrs.keys()))\n",
    "# print(list(f['t'].attrs.keys()))\n",
    "# print(list(f['t']['0.0000000000'].attrs.keys()))\n",
    "# print(list(f['t']['0.0000000000']['pl0'].attrs.keys()))\n",
    "# print(list(f['t']['0.0000000000']['pl0']['p0#0'].attrs.keys()))\n",
    "# print(list(f['t']['0.0000000000']['pl0']['p0#0']['density'].attrs.keys()))\n",
    "# f.visit(print)\n",
    "# provides the list of patches 'pi#j' of patch_id=j on mpi_rank=i\n",
    "f.close()"
   ]
  },
  {
   "cell_type": "code",
   "execution_count": 8,
   "id": "e12ffbed-5896-487c-a180-09c64898ef0e",
   "metadata": {
    "execution": {
     "iopub.execute_input": "2023-06-21T07:24:42.882867Z",
     "iopub.status.busy": "2023-06-21T07:24:42.882497Z",
     "iopub.status.idle": "2023-06-21T07:24:42.885870Z",
     "shell.execute_reply": "2023-06-21T07:24:42.885337Z",
     "shell.execute_reply.started": "2023-06-21T07:24:42.882848Z"
    },
    "tags": []
   },
   "outputs": [],
   "source": [
    "run  = Run(run_path)\n",
    "time = 10.0"
   ]
  },
  {
   "cell_type": "code",
   "execution_count": null,
   "id": "c420a42e-54d4-4fa1-a9d3-c9724500fbde",
   "metadata": {
    "tags": []
   },
   "outputs": [],
   "source": [
    "part_hier = run.GetParticles(0.0, \"protons\")"
   ]
  },
  {
   "cell_type": "code",
   "execution_count": 3,
   "id": "cd3e07a2-31ab-4f50-87d6-fd12adf982ac",
   "metadata": {
    "execution": {
     "iopub.execute_input": "2023-06-21T07:24:16.535816Z",
     "iopub.status.busy": "2023-06-21T07:24:16.535438Z",
     "iopub.status.idle": "2023-06-21T07:24:16.772254Z",
     "shell.execute_reply": "2023-06-21T07:24:16.771631Z",
     "shell.execute_reply.started": "2023-06-21T07:24:16.535795Z"
    },
    "tags": []
   },
   "outputs": [],
   "source": [
    "# method de run.py\n",
    "import pyphare.core.box as mbox\n",
    "from scipy.stats import binned_statistic\n",
    "\n",
    "def _stress1d(ghostBox, dataSet):\n",
    "    xx = np.zeros(ghostBox.shape)\n",
    "\n",
    "    i = dataSet.iCells[:, 0]\n",
    "\n",
    "    binx = np.arange(ghostBox.lower[0], ghostBox.upper[0]+1)\n",
    "\n",
    "    xx = binned_statistic(i, dataSet.weights[:,0]*dataSet.v[:, 0]*dataSet.v[:, 0], statistic='sum', bins=[binx]).statistic\n",
    "    xy = binned_statistic(i, dataSet.weights[:,0]*dataSet.v[:, 0]*dataSet.v[:, 1], statistic='sum', bins=[binx]).statistic\n",
    "    xz = binned_statistic(i, dataSet.weights[:,0]*dataSet.v[:, 0]*dataSet.v[:, 2], statistic='sum', bins=[binx]).statistic\n",
    "    yy = binned_statistic(i, dataSet.weights[:,0]*dataSet.v[:, 1]*dataSet.v[:, 1], statistic='sum', bins=[binx]).statistic\n",
    "    yz = binned_statistic(i, dataSet.weights[:,0]*dataSet.v[:, 1]*dataSet.v[:, 2], statistic='sum', bins=[binx]).statistic\n",
    "    zz = binned_statistic(i, dataSet.weights[:,0]*dataSet.v[:, 2]*dataSet.v[:, 2], statistic='sum', bins=[binx]).statistic\n",
    "\n",
    "    return xx, xy, xz, yy, yz, zz"
   ]
  },
  {
   "cell_type": "code",
   "execution_count": 4,
   "id": "af06e5cf-f853-4564-a11f-9b33111c31aa",
   "metadata": {
    "execution": {
     "iopub.execute_input": "2023-06-21T07:24:19.116742Z",
     "iopub.status.busy": "2023-06-21T07:24:19.116434Z",
     "iopub.status.idle": "2023-06-21T07:24:19.123146Z",
     "shell.execute_reply": "2023-06-21T07:24:19.122646Z",
     "shell.execute_reply.started": "2023-06-21T07:24:19.116725Z"
    },
    "tags": []
   },
   "outputs": [],
   "source": [
    "# method de run.py\n",
    "import pyphare.core.box as mbox\n",
    "from scipy.stats import binned_statistic_2d\n",
    "\n",
    "def _stress2d(ghostBox, dataSet):\n",
    "    xx = np.zeros(ghostBox.shape)\n",
    "\n",
    "    i = dataSet.iCells[:, 0]\n",
    "    j = dataSet.iCells[:, 1]\n",
    "\n",
    "    binx = np.arange(ghostBox.lower[0], ghostBox.upper[0]+1)\n",
    "    biny = np.arange(ghostBox.lower[1], ghostBox.upper[1]+1)\n",
    "\n",
    "    xx = binned_statistic_2d(i, j, dataSet.weights[:,0]*dataSet.v[:, 0]*dataSet.v[:, 0], statistic='sum', bins=[binx, biny]).statistic\n",
    "    xy = binned_statistic_2d(i, j, dataSet.weights[:,0]*dataSet.v[:, 0]*dataSet.v[:, 1], statistic='sum', bins=[binx, biny]).statistic\n",
    "    xz = binned_statistic_2d(i, j, dataSet.weights[:,0]*dataSet.v[:, 0]*dataSet.v[:, 2], statistic='sum', bins=[binx, biny]).statistic\n",
    "    yy = binned_statistic_2d(i, j, dataSet.weights[:,0]*dataSet.v[:, 1]*dataSet.v[:, 1], statistic='sum', bins=[binx, biny]).statistic\n",
    "    yz = binned_statistic_2d(i, j, dataSet.weights[:,0]*dataSet.v[:, 1]*dataSet.v[:, 2], statistic='sum', bins=[binx, biny]).statistic\n",
    "    zz = binned_statistic_2d(i, j, dataSet.weights[:,0]*dataSet.v[:, 2]*dataSet.v[:, 2], statistic='sum', bins=[binx, biny]).statistic\n",
    "\n",
    "    return xx, xy, xz, yy, yz, zz"
   ]
  },
  {
   "cell_type": "code",
   "execution_count": 28,
   "id": "6ef53ba9-85cc-420e-b372-376264f9324f",
   "metadata": {
    "execution": {
     "iopub.execute_input": "2023-06-21T07:54:10.576442Z",
     "iopub.status.busy": "2023-06-21T07:54:10.576061Z",
     "iopub.status.idle": "2023-06-21T07:54:10.582592Z",
     "shell.execute_reply": "2023-06-21T07:54:10.582074Z",
     "shell.execute_reply.started": "2023-06-21T07:54:10.576424Z"
    },
    "tags": []
   },
   "outputs": [],
   "source": [
    "# method de run.py\n",
    "from pyphare.pharesee.hierarchy import FieldData\n",
    "import pyphare.core.box as mbox\n",
    "from pyphare.core.gridlayout import GridLayout\n",
    "from scipy.stats import binned_statistic_2d\n",
    "\n",
    "def _compute_cross_correlation(patch):\n",
    "    domain_pop_name = list(patch.patch_datas.keys())[0]\n",
    "    dset = patch.patch_datas[domain_pop_name].dataset\n",
    "\n",
    "    ndim = patch.box.ndim\n",
    "\n",
    "    nbG = GridLayout().nbrGhosts(interpOrder = 1, centering = \"dual\")\n",
    "    ghosts = [nbG]*ndim\n",
    "    ghostBox = mbox.grow(patch.box, ghosts)\n",
    "\n",
    "    # this is a 0th order interpolation : we could do better in a dedicated call back func\n",
    "    if patch.box.ndim == 1:\n",
    "        xx, xy, xz, yy, yz, zz = _stress1d(ghostBox, dset)\n",
    "    if patch.box.ndim == 2:\n",
    "        xx, xy, xz, yy, yz, zz = _stress2d(ghostBox, dset)\n",
    "\n",
    "    return ({\"name\":\"VxVx\", \"data\":xx, \"centering\":[\"dual\"]*patch.box.ndim},\n",
    "            {\"name\":\"VxVy\", \"data\":xy, \"centering\":[\"dual\"]*patch.box.ndim},\n",
    "            {\"name\":\"VxVz\", \"data\":xz, \"centering\":[\"dual\"]*patch.box.ndim},\n",
    "            {\"name\":\"VyVy\", \"data\":yy, \"centering\":[\"dual\"]*patch.box.ndim},\n",
    "            {\"name\":\"VyVz\", \"data\":yz, \"centering\":[\"dual\"]*patch.box.ndim},\n",
    "            {\"name\":\"VzVz\", \"data\":zz, \"centering\":[\"dual\"]*patch.box.ndim})"
   ]
  },
  {
   "cell_type": "code",
   "execution_count": 58,
   "id": "f9d4c3b6-8b8c-4a88-8ce1-53797db3010e",
   "metadata": {
    "execution": {
     "iopub.execute_input": "2023-06-21T09:31:46.010675Z",
     "iopub.status.busy": "2023-06-21T09:31:46.010406Z",
     "iopub.status.idle": "2023-06-21T09:31:46.013581Z",
     "shell.execute_reply": "2023-06-21T09:31:46.013098Z",
     "shell.execute_reply.started": "2023-06-21T09:31:46.010657Z"
    },
    "tags": []
   },
   "outputs": [],
   "source": [
    "def _multiply_hier_per_scalar(hierarchy, names, new_names, scalar):\n",
    "    assert(len(names) == len(new_names))\n",
    "\n",
    "    patch_levels = hierarchy.patch_levels\n",
    "    domain_box = hierarchy.domain_box\n",
    "    new_patch_level = {}\n",
    "\n",
    "    for ilvl, lvl in patch_levels.items():\n",
    "        new_patches = {}\n",
    "        for patch in lvl.patches:\n",
    "            new_pd = {}\n",
    "            layout = patch.layout\n",
    "            for name, new_name in zip(names, new_names):\n",
    "                dset = scalar*patch.patch_datas[name].dataset\n",
    "                pd = FieldData(layout, new_name, dset, centering=patch.patch_datas[name].centerings)\n",
    "                new_pd[new_name] = pd\n",
    "\n",
    "            if ilvl not in new_patches:\n",
    "                new_patches[ilvl] = []\n",
    "\n",
    "            new_patches[ilvl].append(Patch(new_pd, patch.id))\n",
    "\n",
    "        new_patch_level[ilvl] = PatchLevel(ilvl, new_patches[ilvl])\n",
    "\n",
    "    return PatchHierarchy(new_patch_level, domain_box, time=time)"
   ]
  },
  {
   "cell_type": "code",
   "execution_count": 56,
   "id": "52f1f667-77d9-4e64-b99d-1dd5ff389a2b",
   "metadata": {
    "execution": {
     "iopub.execute_input": "2023-06-21T08:49:13.675499Z",
     "iopub.status.busy": "2023-06-21T08:49:13.675115Z",
     "iopub.status.idle": "2023-06-21T08:49:13.684576Z",
     "shell.execute_reply": "2023-06-21T08:49:13.684047Z",
     "shell.execute_reply.started": "2023-06-21T08:49:13.675480Z"
    },
    "tags": []
   },
   "outputs": [],
   "source": [
    "# method de run.py\n",
    "from pyphare.pharesee.hierarchy import compute_hier_from\n",
    "from pyphare.pharesee.hierarchy import hierarchy_fromh5\n",
    "from pyphare.pharesee.hierarchy import PatchHierarchy\n",
    "from pyphare.pharesee.hierarchy import PatchLevel\n",
    "from pyphare.pharesee.hierarchy import Patch\n",
    "\n",
    "def GetP(time, pop_name, kind='total', base='xyz', save=True):\n",
    "    if isinstance(pop_name, (list, tuple)):\n",
    "        assert len(pop_name) == 1\n",
    "    else:\n",
    "        assert isinstance(pop_name, str)\n",
    "\n",
    "    assert(kind in ['total', 'kinetic', 'ram'])\n",
    "    assert(base in ['xyz', 'aligned'])\n",
    "\n",
    "    h5file = os.path.join(run_path, 'ions_pop_protons_pressure.h5')\n",
    "    if os.path.isfile(h5file):\n",
    "        f = h5py.File(h5file)\n",
    "\n",
    "        time_str = \"{0:.10f}\".format(time)\n",
    "\n",
    "        if time_str in list(f['t'].keys()):\n",
    "            P = hierarchy_fromh5(h5file, time_str, None, silent=False)\n",
    "        else:\n",
    "            VV = compute_hier_from(run.GetParticles(time, pop_name), _compute_cross_correlation)\n",
    "            mass = run.GetMass(pop_name)  # will be substituted by self..GetMass(pop_name) in run.py\n",
    "\n",
    "            P = VV\n",
    "        f.close()\n",
    "\n",
    "    else:\n",
    "        VV = compute_hier_from(run.GetParticles(time, pop_name), _compute_cross_correlation)\n",
    "        mass = run.GetMass(pop_name)  # will be substituted by self..GetMass(pop_name) in run.py\n",
    "\n",
    "        patch_levels = VV.patch_levels\n",
    "        domain_box = VV.domain_box\n",
    "\n",
    "        new_patch_level = {}\n",
    "        for ilvl, lvl in patch_levels.items():\n",
    "            new_patches = {}\n",
    "            for patch in lvl.patches:\n",
    "                new_pd = {}\n",
    "\n",
    "                layout = patch.layout\n",
    "\n",
    "                d_xx = mass*patch.patch_datas['VxVx'].dataset\n",
    "\n",
    "                pd = FieldData(layout, \"Pxx\", d_xx, centering=patch.patch_datas['VxVx'].centerings)\n",
    "\n",
    "                new_pd[\"Pxx\"] = pd\n",
    "\n",
    "                if ilvl not in new_patches:\n",
    "                    new_patches[ilvl] = []\n",
    "\n",
    "                new_patches[ilvl].append(Patch(new_pd, patch.id))\n",
    "\n",
    "            new_patch_level[ilvl] = PatchLevel(ilvl, new_patches[ilvl])\n",
    "\n",
    "        P = PatchHierarchy(new_patch_level, domain_box, time=time)\n",
    "\n",
    "        # P = VV\n",
    "        # tester si le h5file contient deja ce temps... et si non\n",
    "        # ecrire la hierarchy dans le h5file dans le bon time grp\n",
    "\n",
    "        ###### hierarchy_toh5(h5file, time, P)\n",
    "\n",
    "\n",
    "\n",
    "\n",
    "\n",
    "\n",
    "        # f = h5py.File(h5file, 'w')\n",
    "        # g = h5py.File(os.path.join(run_path, 'ions_pop_protons_density.h5'), 'r')\n",
    "\n",
    "        # f.attrs['cell_width'] = g.attrs['cell_width']\n",
    "        # f.attrs['dimension'] = g.attrs['dimension']\n",
    "        # f.attrs['domain_box'] = g.attrs['domain_box']\n",
    "        # f.attrs['interpOrder'] = g.attrs['interpOrder']\n",
    "        # f.attrs['layoutType'] = g.attrs['layoutType']\n",
    "        # f.attrs['origin'] = g.attrs['origin']\n",
    "        # f.attrs['pop_mass'] = g.attrs['pop_mass']\n",
    "\n",
    "        # for ilvl, lvl in P.levels(time).items():\n",
    "        #     for patch in lvl.patches:\n",
    "        #         node = \"t/{0:.10f}/pl{1:d}/{2}\".format(time, ilvl, patch.id)\n",
    "        #         time_node = \"{0:.10f}\".format(time)\n",
    "        #         level_node = \"pl{0:d}\".format(ilvl)\n",
    "\n",
    "        #         grp = f.create_group(node)\n",
    "\n",
    "        #         grp.attrs['origin'] = g['t'][time_node][level_node][patch.id].attrs['origin']\n",
    "        #         grp.attrs['lower'] = g['t'][time_node][level_node][patch.id].attrs['lower']\n",
    "        #         grp.attrs['upper'] = g['t'][time_node][level_node][patch.id].attrs['upper']\n",
    "        #         # grp.attrs['mpi_rank'] = g['t'][time_node][level_node][patch.id].attrs['mpi_rank']\n",
    "        #         # grp.attrs['nbrCells'] = g['t'][time_node][level_node][patch.id].attrs['nbrCells']\n",
    "\n",
    "        #         # grp['pressure'].attrs['ghosts'] = g['t'][time_node][level_node][patch.id]['pressure'].attrs['ghosts']\n",
    "\n",
    "        #         xx = mass*patch.patch_datas['Pxx'].dataset\n",
    "        #         grp.create_dataset('Pxx', data=xx)\n",
    "\n",
    "        #         if save == True:\n",
    "        #             pass\n",
    "        #             # grp = f.create_group(node)\n",
    "        #             # ['ghosts']\n",
    "        # f.close()\n",
    "\n",
    "    if kind == 'total':\n",
    "        pass\n",
    "\n",
    "    if base == 'aligned':\n",
    "        pass\n",
    "\n",
    "    return P"
   ]
  },
  {
   "cell_type": "code",
   "execution_count": 57,
   "id": "3a137ace-b63e-4146-ba9d-6be85d7ac9d6",
   "metadata": {
    "execution": {
     "iopub.execute_input": "2023-06-21T08:49:14.244568Z",
     "iopub.status.busy": "2023-06-21T08:49:14.244296Z",
     "iopub.status.idle": "2023-06-21T08:49:24.209053Z",
     "shell.execute_reply": "2023-06-21T08:49:24.208433Z",
     "shell.execute_reply.started": "2023-06-21T08:49:14.244553Z"
    },
    "tags": []
   },
   "outputs": [],
   "source": [
    "P = GetP(time, \"protons\")"
   ]
  },
  {
   "cell_type": "code",
   "execution_count": null,
   "id": "9c5a498a-5434-4fbf-868b-e80ac2877cd5",
   "metadata": {
    "tags": []
   },
   "outputs": [],
   "source": [
    "print(P)\n",
    "print(dir(P))"
   ]
  },
  {
   "cell_type": "code",
   "execution_count": null,
   "id": "a45c3679-9dd4-420e-85c5-bc15c4fce9b5",
   "metadata": {
    "tags": []
   },
   "outputs": [],
   "source": [
    "P = GetP(time, \"protons\")\n",
    "print(P)\n",
    "\n",
    "print(dir(P))"
   ]
  },
  {
   "cell_type": "code",
   "execution_count": null,
   "id": "2f5266e8-7b33-4e99-beac-8fba3f24c17d",
   "metadata": {
    "tags": []
   },
   "outputs": [],
   "source": [
    "f = h5py.File(os.path.join(run_path, 'ions_pop_protons_pressure.h5'), 'r')\n",
    "print(list(f.keys()))\n",
    "#print(list(f['t']))\n",
    "#print(f['t']['0.0000000000']['pl0']['p0#0']['pressure'])\n",
    "f.visit(print)\n",
    "f.close()"
   ]
  },
  {
   "cell_type": "code",
   "execution_count": null,
   "id": "54d5743c-5d2d-45a2-86ff-50e97d61fdb2",
   "metadata": {},
   "outputs": [],
   "source": []
  },
  {
   "cell_type": "code",
   "execution_count": null,
   "id": "5e454e0e-9ec3-4759-8553-3d863d90005f",
   "metadata": {
    "tags": []
   },
   "outputs": [],
   "source": [
    "print(P.levels(time)[0].patches[0].patch_datas['Pxx'])\n",
    "print(P.levels(time)[0].patches[0].patch_datas['Pxx'].dataset)"
   ]
  },
  {
   "cell_type": "code",
   "execution_count": null,
   "id": "97abc35f-7268-4d7c-a7aa-1e26c982036f",
   "metadata": {
    "tags": []
   },
   "outputs": [],
   "source": [
    "print(P.patch_levels[0].patches[0].box)\n",
    "print(P.patch_levels[0].patches[0].patch_datas)\n",
    "print(P.patch_levels[0].patches[1].patch_datas[\"Pxx\"].dataset[:])"
   ]
  },
  {
   "cell_type": "code",
   "execution_count": null,
   "id": "60188c35-8ad6-4a65-bdc5-c3257ff0e3f4",
   "metadata": {
    "tags": []
   },
   "outputs": [],
   "source": [
    "P.plot(qty='Pxx',\n",
    "      vmin=0.2,\n",
    "      vmax=0.8,\n",
    "      cmap='viridis')"
   ]
  },
  {
   "cell_type": "code",
   "execution_count": null,
   "id": "b3909d09-f024-426a-81c4-7eec64fde60e",
   "metadata": {},
   "outputs": [],
   "source": []
  },
  {
   "cell_type": "code",
   "execution_count": null,
   "id": "596d2254-44a6-4736-ad0a-1837c1f7bd5d",
   "metadata": {
    "tags": []
   },
   "outputs": [],
   "source": [
    "# Junk ?\n",
    "def GetParticles(time, pop_name, hier=None):\n",
    "    #def filename(name):\n",
    "    #    return f\"ions_pop_{name}_domain.h5\"\n",
    "    filename = lambda name : f\"ions_pop_{name}_domain.h5\"\n",
    "    if isinstance(pop_name, (list, tuple)):\n",
    "        for pop in pop_name:\n",
    "            hier = run._get_hierarchy(time, filename(pop), hier=hier)\n",
    "        return hier\n",
    "    return run._get_hierarchy(time, filename(pop_name), hier=hier)"
   ]
  }
 ],
 "metadata": {
  "kernelspec": {
   "display_name": "space/python3",
   "language": "python",
   "name": "conda-env-space-py"
  },
  "language_info": {
   "codemirror_mode": {
    "name": "ipython",
    "version": 3
   },
   "file_extension": ".py",
   "mimetype": "text/x-python",
   "name": "python",
   "nbconvert_exporter": "python",
   "pygments_lexer": "ipython3",
   "version": "3.10.11"
  }
 },
 "nbformat": 4,
 "nbformat_minor": 5
}
