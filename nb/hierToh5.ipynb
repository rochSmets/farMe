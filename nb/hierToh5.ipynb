{
 "cells": [
  {
   "cell_type": "code",
   "execution_count": 1,
   "id": "1ced55a2-4b46-432c-9f8e-e1b9d84736f9",
   "metadata": {
    "execution": {
     "iopub.execute_input": "2023-06-26T06:54:57.154802Z",
     "iopub.status.busy": "2023-06-26T06:54:57.154407Z",
     "iopub.status.idle": "2023-06-26T06:54:57.590030Z",
     "shell.execute_reply": "2023-06-26T06:54:57.589451Z",
     "shell.execute_reply.started": "2023-06-26T06:54:57.154787Z"
    },
    "tags": []
   },
   "outputs": [],
   "source": [
    "import sys\n",
    "import os\n",
    "sys.path.append(\"/home/smets/codes/far/PHARE/pyphare/\")\n",
    "import pyphare\n",
    "import matplotlib.pyplot as plt\n",
    "from pyphare.pharesee.run import Run\n",
    "import numpy as np\n",
    "%matplotlib widget"
   ]
  },
  {
   "cell_type": "code",
   "execution_count": 2,
   "id": "6b5c96bc-5905-46d8-9154-7b5165b54411",
   "metadata": {
    "execution": {
     "iopub.execute_input": "2023-06-26T06:54:58.794803Z",
     "iopub.status.busy": "2023-06-26T06:54:58.794417Z",
     "iopub.status.idle": "2023-06-26T06:54:58.798119Z",
     "shell.execute_reply": "2023-06-26T06:54:58.797712Z",
     "shell.execute_reply.started": "2023-06-26T06:54:58.794787Z"
    },
    "tags": []
   },
   "outputs": [
    {
     "data": {
      "text/plain": [
       "['EM_B.h5',\n",
       " 'EM_E.h5',\n",
       " 'harris-688134.log',\n",
       " 'harris.py',\n",
       " 'ions_bulkVelocity.h5',\n",
       " 'ions_density.h5',\n",
       " 'ions_pop_protons_density.h5',\n",
       " 'ions_pop_protons_domain.h5',\n",
       " 'ions_pop_protons_flux.h5',\n",
       " 'job.sh']"
      ]
     },
     "execution_count": 2,
     "metadata": {},
     "output_type": "execute_result"
    }
   ],
   "source": [
    "run_path = \"/DATA/phare/harris/tiny\"\n",
    "os.listdir(run_path)"
   ]
  },
  {
   "cell_type": "code",
   "execution_count": 3,
   "id": "22a28bda-7743-4c6b-ba83-9cc2858e7a6c",
   "metadata": {
    "execution": {
     "iopub.execute_input": "2023-06-26T06:55:08.569383Z",
     "iopub.status.busy": "2023-06-26T06:55:08.568995Z",
     "iopub.status.idle": "2023-06-26T06:55:08.606352Z",
     "shell.execute_reply": "2023-06-26T06:55:08.605847Z",
     "shell.execute_reply.started": "2023-06-26T06:55:08.569362Z"
    },
    "tags": []
   },
   "outputs": [
    {
     "name": "stdout",
     "output_type": "stream",
     "text": [
      "[45 45]\n"
     ]
    }
   ],
   "source": [
    "run  = Run(run_path)\n",
    "time = 7.0\n",
    "B = run.GetB(time)\n",
    "h5_time_grp_key = 't'\n",
    "\n",
    "for ilvl, lvl in B.levels(time).items():\n",
    "    for patch in lvl.patches:\n",
    "        print(patch.layout.box.shape)\n",
    "        break"
   ]
  },
  {
   "cell_type": "code",
   "execution_count": 4,
   "id": "eb514677-1d84-4e5e-a6b7-4b41e208e79c",
   "metadata": {
    "execution": {
     "iopub.execute_input": "2023-06-26T06:55:09.739802Z",
     "iopub.status.busy": "2023-06-26T06:55:09.739435Z",
     "iopub.status.idle": "2023-06-26T06:55:09.762244Z",
     "shell.execute_reply": "2023-06-26T06:55:09.761810Z",
     "shell.execute_reply.started": "2023-06-26T06:55:09.739786Z"
    },
    "tags": []
   },
   "outputs": [
    {
     "name": "stdout",
     "output_type": "stream",
     "text": [
      "creating hierarchy from time 7.0000000000\n",
      "p0#0  :  (50, 49)\n",
      "p1#1  :  (50, 48)\n",
      "p10#12  :  (50, 48)\n",
      "p11#13  :  (45, 54)\n",
      "p12#14  :  (45, 54)\n",
      "p13#15  :  (45, 54)\n",
      "p14#16  :  (45, 54)\n",
      "p15#17  :  (50, 48)\n",
      "p16#18  :  (43, 57)\n",
      "p17#19  :  (42, 57)\n",
      "p18#20  :  (38, 51)\n",
      "p18#21  :  (50, 16)\n",
      "p19#22  :  (47, 51)\n",
      "p2#2  :  (60, 32)\n",
      "p2#3  :  (50, 15)\n",
      "p3#4  :  (60, 40)\n",
      "p4#5  :  (60, 40)\n",
      "p5#6  :  (50, 48)\n",
      "p6#7  :  (41, 60)\n",
      "p7#8  :  (40, 60)\n",
      "p8#10  :  (15, 48)\n",
      "p8#9  :  (34, 60)\n",
      "p9#11  :  (50, 48)\n"
     ]
    }
   ],
   "source": [
    "from pyphare.pharesee.hierarchy import hierarchy_fromh5\n",
    "from pyphare.pharesee.hierarchy import hierarchy_toh5\n",
    "import h5py\n",
    "\n",
    "h5file = os.path.join(run_path, 'EM_B.h5')\n",
    "f = h5py.File(h5file)\n",
    "#f.visit(print)\n",
    "C = hierarchy_fromh5(h5file, \"{0:.10f}\".format(time), None, silent=False)\n",
    "\n",
    "#f.visit(print)\n",
    "# print(\"f : \", list(f.attrs.keys()))\n",
    "# print(\"f : \", list(f.keys()))\n",
    "# print(\"f[t] :\", list(f['t'].attrs.keys()))\n",
    "# print(\"f[t] : \", list(f['t'].keys()))\n",
    "# print(\"f[t][0.0]\", list(f['t']['0.0000000000'].attrs.keys()))\n",
    "# print(\"f[t][0.0]\", list(f['t']['0.0000000000'].keys()))\n",
    "# print(\"f[t][0.0][pl0] : \", list(f['t']['0.0000000000']['pl0'].attrs.keys()))\n",
    "# print(\"f[t][0.0][pl0] : \", list(f['t']['0.0000000000']['pl0'].keys()))\n",
    "# print(\"f[t]{0.0][pl0]{p0#0] : \", list(f['t']['0.0000000000']['pl0']['p0#0'].attrs.keys()))\n",
    "# print(\"f[t]{0.0][pl0]{p0#0] : \", list(f['t']['0.0000000000']['pl0']['p0#0'].keys()))\n",
    "# print(\"f[t]{0.0][pl0]{p0#0][EM_B_x] : \", list(f['t']['0.0000000000']['pl0']['p0#0']['EM_B_x'].attrs.keys()))\n",
    "# print(list(f ['t']['0.0000000000']['pl0']['p0#0']['EM_B_x']))\n",
    "# print(\"f[t]{0.0][pl0]{p0#0][EM_B_x] : \", type(f['t']['0.0000000000']['pl0']['p0#0']['EM_B_x']))\n",
    "# print(\"f[t]{0.0][pl0]{p0#0][EM_B_x] : \", dir(f['t']['0.0000000000']['pl0']['p0#0']['EM_B_x']))\n",
    "# print(\"f[t]{0.0][pl0]{p0#0][EM_B_x] : \", f['t']['0.0000000000']['pl0']['p0#0']['EM_B_x'].dtype)\n",
    "# print(\"f[t]{0.0][pl0]{p0#0][EM_B_x] : \", f['t']['0.0000000000']['pl0']['p0#0']['EM_B_x'].shape)\n",
    "\n",
    "for patch in list(f['t']['0.0000000000']['pl0'].keys()):\n",
    "    print(patch, \" : \", f['t']['0.0000000000']['pl0'][patch]['EM_B_x'].shape)\n",
    "\n",
    "\n",
    "f.close()"
   ]
  },
  {
   "cell_type": "code",
   "execution_count": null,
   "id": "1f225401-d5ae-41b2-8e1f-8ced2cf34cd6",
   "metadata": {
    "tags": []
   },
   "outputs": [],
   "source": [
    "def hierarchy_toh5(h5_filename, time, hier, silent=True):\n",
    "    import h5py\n",
    "    h5file = os.path.join(run_path, h5_filename)\n",
    "\n",
    "    if os.path.isfile(h5file):\n",
    "        f = h5py.File(h5file, 'r+')\n",
    "    else:\n",
    "        f = h5py.File(h5file, 'w-')\n",
    "\n",
    "        f.attrs['cell_width'] = hier.patch_levels[0].patches[0].dl\n",
    "        f.attrs['dimension'] = hier.ndim\n",
    "        f.attrs['domain_box'] = hier.domain_box.upper-hier.domain_box.lower\n",
    "        f.attrs['interpOrder'] = hier.patch_levels[0].patches[0].layout.interp_order\n",
    "        f.attrs['layoutType'] = hier.patch_levels[0].patches[0].layout.impl\n",
    "        f.attrs['origin'] = hier.patch_levels[0].patches[0].layout.origin\n",
    "\n",
    "    if 't' not in f:\n",
    "        base_node = f.create_group(h5_time_grp_key)\n",
    "    else:\n",
    "        base_node = f.get('t')\n",
    "\n",
    "    print(list(base_node))\n",
    "\n",
    "    if \"{0:.10f}\".format(time) not in list(base_node):\n",
    "        time_node = base_node.create_group(\"{0:.10f}\".format(time))\n",
    "\n",
    "        for ilvl, lvl in hier.levels(time).items():\n",
    "            level_node = time_node.create_group(\"pl{0:d}\".format(ilvl))\n",
    "            for patch in lvl.patches:\n",
    "                patch_node = level_node.create_group(patch.id)\n",
    "\n",
    "                patch_node.attrs['origin'] = patch.origin\n",
    "                patch_node.attrs['lower'] = patch.box.lower\n",
    "                patch_node.attrs['upper'] = patch.box.upper\n",
    "                patch_node.attrs['mpi_rank'] = patch.id.strip('p').split('#')[0]\n",
    "                patch_node.attrs['nbrCells'] = patch.layout.box.shape\n",
    "\n",
    "                # print(patch.id, \" : \", patch.patch_datas['Bx'].dataset.shape)\n",
    "                patch_node.create_dataset('EM_B_x', data=patch.patch_datas['Bx'].dataset, dtype='float64')\n",
    "\n",
    "    else:\n",
    "        time_node = base_node.get(\"{0:.10f}\".format(time))\n",
    "        print(\"group 't/{}' already exist, so do the associated dataset : no need to write in h5 file\".format(time))\n",
    "\n",
    "    f.close()"
   ]
  },
  {
   "cell_type": "code",
   "execution_count": 5,
   "id": "3f976d9a-219f-466b-8e2e-09c15fb05a2f",
   "metadata": {
    "execution": {
     "iopub.execute_input": "2023-06-26T06:55:15.201387Z",
     "iopub.status.busy": "2023-06-26T06:55:15.201132Z",
     "iopub.status.idle": "2023-06-26T06:55:15.220769Z",
     "shell.execute_reply": "2023-06-26T06:55:15.220298Z",
     "shell.execute_reply.started": "2023-06-26T06:55:15.201369Z"
    },
    "tags": []
   },
   "outputs": [],
   "source": [
    "zob_file = os.path.join(run_path, \"zob.h5\")\n",
    "\n",
    "if os.path.isfile(zob_file):\n",
    "    # os.remove(zob_file)\n",
    "    pass\n",
    "\n",
    "hierarchy_toh5(zob_file, time, B)"
   ]
  },
  {
   "cell_type": "code",
   "execution_count": null,
   "id": "cc56d1b3-b96f-451a-8e1a-3f5f5cf0f175",
   "metadata": {},
   "outputs": [],
   "source": []
  },
  {
   "cell_type": "code",
   "execution_count": 6,
   "id": "174d6b12-7771-497f-bec0-462fba039cb3",
   "metadata": {
    "execution": {
     "iopub.execute_input": "2023-06-26T06:55:18.053952Z",
     "iopub.status.busy": "2023-06-26T06:55:18.053469Z",
     "iopub.status.idle": "2023-06-26T06:55:18.066570Z",
     "shell.execute_reply": "2023-06-26T06:55:18.066188Z",
     "shell.execute_reply.started": "2023-06-26T06:55:18.053935Z"
    },
    "tags": []
   },
   "outputs": [
    {
     "name": "stdout",
     "output_type": "stream",
     "text": [
      "creating hierarchy from time 7.0000000000\n"
     ]
    }
   ],
   "source": [
    "h5file = os.path.join(run_path, \"zob.h5\")\n",
    "\n",
    "# line 1153, we have : data_file = h5py.File(h5_filename, \"r\")\n",
    "# which should be closed... before the \"return\" of line 1170, 1205, 1245, 1273, 1281\n",
    "\n",
    "D = hierarchy_fromh5(h5file, \"{0:.10f}\".format(time), None, silent=False)"
   ]
  },
  {
   "cell_type": "code",
   "execution_count": 7,
   "id": "6796dcd9-43c7-494b-8bc5-f0a8e83a4372",
   "metadata": {
    "execution": {
     "iopub.execute_input": "2023-06-26T06:55:19.471425Z",
     "iopub.status.busy": "2023-06-26T06:55:19.470960Z",
     "iopub.status.idle": "2023-06-26T06:55:19.473869Z",
     "shell.execute_reply": "2023-06-26T06:55:19.473495Z",
     "shell.execute_reply.started": "2023-06-26T06:55:19.471410Z"
    },
    "tags": []
   },
   "outputs": [
    {
     "name": "stdout",
     "output_type": "stream",
     "text": [
      "Hierarchy: \n",
      "Level 0\n",
      "    P0 <class 'h5py._hl.dataset.Dataset'> Bx box is Box([0, 0],[44, 44]) and ghost box is Box([-2, -2],[46, 46])\n",
      "    P1 <class 'h5py._hl.dataset.Dataset'> Bx box is Box([0, 56],[44, 99]) and ghost box is Box([-2, 54],[46, 101])\n",
      "    P2 <class 'h5py._hl.dataset.Dataset'> Bx box is Box([200, 0],[244, 43]) and ghost box is Box([198, -2],[246, 45])\n",
      "    P3 <class 'h5py._hl.dataset.Dataset'> Bx box is Box([320, 50],[359, 99]) and ghost box is Box([318, 48],[361, 101])\n",
      "    P4 <class 'h5py._hl.dataset.Dataset'> Bx box is Box([360, 50],[399, 99]) and ghost box is Box([358, 48],[401, 101])\n",
      "    P5 <class 'h5py._hl.dataset.Dataset'> Bx box is Box([360, 0],[399, 49]) and ghost box is Box([358, -2],[401, 51])\n",
      "    P6 <class 'h5py._hl.dataset.Dataset'> Bx box is Box([320, 0],[359, 49]) and ghost box is Box([318, -2],[361, 51])\n",
      "    P7 <class 'h5py._hl.dataset.Dataset'> Bx box is Box([200, 56],[244, 99]) and ghost box is Box([198, 54],[246, 101])\n",
      "    P8 <class 'h5py._hl.dataset.Dataset'> Bx box is Box([282, 47],[319, 99]) and ghost box is Box([280, 45],[321, 101])\n",
      "    P9 <class 'h5py._hl.dataset.Dataset'> Bx box is Box([245, 47],[281, 99]) and ghost box is Box([243, 45],[283, 101])\n",
      "    P10 <class 'h5py._hl.dataset.Dataset'> Bx box is Box([245, 0],[277, 46]) and ghost box is Box([243, -2],[279, 48])\n",
      "    P11 <class 'h5py._hl.dataset.Dataset'> Bx box is Box([200, 44],[244, 55]) and ghost box is Box([198, 42],[246, 57])\n",
      "    P12 <class 'h5py._hl.dataset.Dataset'> Bx box is Box([278, 0],[319, 46]) and ghost box is Box([276, -2],[321, 48])\n",
      "    P13 <class 'h5py._hl.dataset.Dataset'> Bx box is Box([45, 0],[99, 27]) and ghost box is Box([43, -2],[101, 29])\n",
      "    P14 <class 'h5py._hl.dataset.Dataset'> Bx box is Box([0, 45],[44, 55]) and ghost box is Box([-2, 43],[46, 57])\n",
      "    P15 <class 'h5py._hl.dataset.Dataset'> Bx box is Box([45, 64],[99, 99]) and ghost box is Box([43, 62],[101, 101])\n",
      "    P16 <class 'h5py._hl.dataset.Dataset'> Bx box is Box([45, 28],[99, 63]) and ghost box is Box([43, 26],[101, 65])\n",
      "    P17 <class 'h5py._hl.dataset.Dataset'> Bx box is Box([100, 0],[144, 43]) and ghost box is Box([98, -2],[146, 45])\n",
      "    P18 <class 'h5py._hl.dataset.Dataset'> Bx box is Box([164, 44],[199, 99]) and ghost box is Box([162, 42],[201, 101])\n",
      "    P19 <class 'h5py._hl.dataset.Dataset'> Bx box is Box([129, 44],[163, 99]) and ghost box is Box([127, 42],[165, 101])\n",
      "    P20 <class 'h5py._hl.dataset.Dataset'> Bx box is Box([145, 0],[154, 43]) and ghost box is Box([143, -2],[156, 45])\n",
      "    P21 <class 'h5py._hl.dataset.Dataset'> Bx box is Box([100, 44],[128, 99]) and ghost box is Box([98, 42],[130, 101])\n",
      "    P22 <class 'h5py._hl.dataset.Dataset'> Bx box is Box([155, 0],[199, 43]) and ghost box is Box([153, -2],[201, 45])\n",
      "\n"
     ]
    }
   ],
   "source": [
    "print(D)"
   ]
  },
  {
   "cell_type": "code",
   "execution_count": null,
   "id": "c3e885c5-0385-418a-b679-66f27869e26d",
   "metadata": {},
   "outputs": [],
   "source": []
  }
 ],
 "metadata": {
  "kernelspec": {
   "display_name": "space/python3",
   "language": "python",
   "name": "conda-env-space-py"
  },
  "language_info": {
   "codemirror_mode": {
    "name": "ipython",
    "version": 3
   },
   "file_extension": ".py",
   "mimetype": "text/x-python",
   "name": "python",
   "nbconvert_exporter": "python",
   "pygments_lexer": "ipython3",
   "version": "3.10.11"
  }
 },
 "nbformat": 4,
 "nbformat_minor": 5
}
