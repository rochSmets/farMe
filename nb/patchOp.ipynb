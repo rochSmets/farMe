{
 "cells": [
  {
   "cell_type": "code",
   "execution_count": 1,
   "id": "839a492c-a1b8-43ec-8b82-56a96053f6bd",
   "metadata": {
    "execution": {
     "iopub.execute_input": "2023-06-28T06:40:33.312946Z",
     "iopub.status.busy": "2023-06-28T06:40:33.312541Z",
     "iopub.status.idle": "2023-06-28T06:40:33.689799Z",
     "shell.execute_reply": "2023-06-28T06:40:33.689166Z",
     "shell.execute_reply.started": "2023-06-28T06:40:33.312929Z"
    },
    "tags": []
   },
   "outputs": [],
   "source": [
    "import sys\n",
    "import os\n",
    "sys.path.append(\"/home/smets/codes/far/PHARE/pyphare/\")\n",
    "import pyphare\n",
    "import matplotlib.pyplot as plt\n",
    "from pyphare.pharesee.run import Run\n",
    "import numpy as np\n",
    "%matplotlib widget"
   ]
  },
  {
   "cell_type": "code",
   "execution_count": 2,
   "id": "40a02a1c-23ed-464c-8f29-e367d8654144",
   "metadata": {
    "execution": {
     "iopub.execute_input": "2023-06-28T06:40:45.729864Z",
     "iopub.status.busy": "2023-06-28T06:40:45.729432Z",
     "iopub.status.idle": "2023-06-28T06:40:45.734194Z",
     "shell.execute_reply": "2023-06-28T06:40:45.733692Z",
     "shell.execute_reply.started": "2023-06-28T06:40:45.729844Z"
    },
    "tags": []
   },
   "outputs": [
    {
     "data": {
      "text/plain": [
       "['EM_B.h5',\n",
       " 'EM_E.h5',\n",
       " 'harris-688134.log',\n",
       " 'harris.py',\n",
       " 'ions_bulkVelocity.h5',\n",
       " 'ions_density.h5',\n",
       " 'ions_pop_protons_domain.h5',\n",
       " 'ions_pop_protons_flux.h5',\n",
       " 'job.sh',\n",
       " 'ions_pop_protons_density.h5',\n",
       " 'ions_pop_protons_pressure.h5']"
      ]
     },
     "execution_count": 2,
     "metadata": {},
     "output_type": "execute_result"
    }
   ],
   "source": [
    "run_path = \"/DATA/phare/harris/tiny\"\n",
    "os.listdir(run_path)"
   ]
  },
  {
   "cell_type": "code",
   "execution_count": 5,
   "id": "d88bef29-075d-4e45-900e-ded9d8f4a393",
   "metadata": {
    "execution": {
     "iopub.execute_input": "2023-06-28T07:38:05.144894Z",
     "iopub.status.busy": "2023-06-28T07:38:05.144579Z",
     "iopub.status.idle": "2023-06-28T07:38:05.162176Z",
     "shell.execute_reply": "2023-06-28T07:38:05.161719Z",
     "shell.execute_reply.started": "2023-06-28T07:38:05.144875Z"
    },
    "tags": []
   },
   "outputs": [],
   "source": [
    "run  = Run(run_path)\n",
    "time = 4.0\n",
    "h = run.GetB(time)\n",
    "h5_time_grp_key = 't'"
   ]
  },
  {
   "cell_type": "code",
   "execution_count": 29,
   "id": "1618eaaf-6962-422b-91eb-91ab91a654f0",
   "metadata": {
    "execution": {
     "iopub.execute_input": "2023-06-28T08:22:31.670630Z",
     "iopub.status.busy": "2023-06-28T08:22:31.670334Z",
     "iopub.status.idle": "2023-06-28T08:22:31.684523Z",
     "shell.execute_reply": "2023-06-28T08:22:31.684089Z",
     "shell.execute_reply.started": "2023-06-28T08:22:31.670611Z"
    },
    "tags": []
   },
   "outputs": [
    {
     "name": "stdout",
     "output_type": "stream",
     "text": [
      "[45 45]\n",
      "(50, 49)\n",
      "(49, 50)\n",
      "(49, 49)\n"
     ]
    }
   ],
   "source": [
    "for ilvl, lvl in h.levels(time).items():\n",
    "    for patch in lvl.patches:\n",
    "        print(patch.layout.box.shape)\n",
    "        names = list(patch.patch_datas.keys())\n",
    "        for name in names:\n",
    "            print(patch.patch_datas[name].dataset.shape)\n",
    "            dset = np.asarray(patch.patch_datas[name].dataset)*np.asarray(patch.patch_datas[name].dataset) #idem autres operations\n",
    "        break"
   ]
  },
  {
   "cell_type": "code",
   "execution_count": 24,
   "id": "d6034493-c1c9-411a-a098-f5ee47b5bc83",
   "metadata": {
    "execution": {
     "iopub.execute_input": "2023-06-28T08:21:07.689667Z",
     "iopub.status.busy": "2023-06-28T08:21:07.689368Z",
     "iopub.status.idle": "2023-06-28T08:21:07.692386Z",
     "shell.execute_reply": "2023-06-28T08:21:07.691943Z",
     "shell.execute_reply.started": "2023-06-28T08:21:07.689648Z"
    },
    "tags": []
   },
   "outputs": [],
   "source": [
    "x = np.arange(9.0).reshape((3, 3))\n",
    "y = np.ones((3, 3))*2"
   ]
  },
  {
   "cell_type": "code",
   "execution_count": 25,
   "id": "64dce060-9980-424d-afcf-bc7f150bdd95",
   "metadata": {
    "execution": {
     "iopub.execute_input": "2023-06-28T08:21:12.412157Z",
     "iopub.status.busy": "2023-06-28T08:21:12.411839Z",
     "iopub.status.idle": "2023-06-28T08:21:12.415744Z",
     "shell.execute_reply": "2023-06-28T08:21:12.415338Z",
     "shell.execute_reply.started": "2023-06-28T08:21:12.412138Z"
    },
    "tags": []
   },
   "outputs": [
    {
     "data": {
      "text/plain": [
       "array([[2., 2., 2.],\n",
       "       [2., 2., 2.],\n",
       "       [2., 2., 2.]])"
      ]
     },
     "execution_count": 25,
     "metadata": {},
     "output_type": "execute_result"
    }
   ],
   "source": [
    "y"
   ]
  },
  {
   "cell_type": "code",
   "execution_count": 31,
   "id": "ae510a59-c127-454b-9f1b-0b342086a7e0",
   "metadata": {
    "execution": {
     "iopub.execute_input": "2023-06-28T08:23:19.095996Z",
     "iopub.status.busy": "2023-06-28T08:23:19.095675Z",
     "iopub.status.idle": "2023-06-28T08:23:19.099641Z",
     "shell.execute_reply": "2023-06-28T08:23:19.099198Z",
     "shell.execute_reply.started": "2023-06-28T08:23:19.095976Z"
    },
    "tags": []
   },
   "outputs": [
    {
     "data": {
      "text/plain": [
       "array([[-2., -1.,  0.],\n",
       "       [ 1.,  2.,  3.],\n",
       "       [ 4.,  5.,  6.]])"
      ]
     },
     "execution_count": 31,
     "metadata": {},
     "output_type": "execute_result"
    }
   ],
   "source": [
    "x-y"
   ]
  },
  {
   "cell_type": "code",
   "execution_count": null,
   "id": "29862532-f860-4b25-818f-adb2b0ed4849",
   "metadata": {},
   "outputs": [],
   "source": [
    "class ScalarField(PatchHierarchy):\n",
    "\n",
    "     def __mul__(self, scalar):\n",
    "         loop on patch levels, on patches and call patch1*scalar\n",
    "\n",
    "class VectorField(PatchHierarchy):\n",
    "    pass\n",
    "\n",
    "\n",
    "class TensorField(PatchHierarchy):\n",
    "    pass\n",
    "\n",
    "class VectorField(PatchHierarchy):\n",
    "    def __mul__(self, other):\n",
    "        if isinstance(other, VectorField):\n",
    "            # multiply with instance of VectorField\n",
    "            print(\"b is an instance of VectorField\")\n",
    "            # Add your implementation\n",
    "        elif isinstance(b, ScalarField):\n",
    "            # multiply with an VectorField\n",
    "            print(\"b is an VectorField\")\n",
    "            # Add your implementation\n",
    "        else:\n",
    "            # raise an error because b is an unsupported type\n",
    "            raise ValueError(\"Unsupported type: {}\".format(type(b)))\n"
   ]
  }
 ],
 "metadata": {
  "kernelspec": {
   "display_name": "Python 3 (ipykernel)",
   "language": "python",
   "name": "python3"
  },
  "language_info": {
   "codemirror_mode": {
    "name": "ipython",
    "version": 3
   },
   "file_extension": ".py",
   "mimetype": "text/x-python",
   "name": "python",
   "nbconvert_exporter": "python",
   "pygments_lexer": "ipython3",
   "version": "3.11.6"
  }
 },
 "nbformat": 4,
 "nbformat_minor": 5
}
