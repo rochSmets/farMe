{
 "cells": [
  {
   "cell_type": "markdown",
   "metadata": {},
   "source": [
    "## Playing with distributions"
   ]
  },
  {
   "cell_type": "markdown",
   "metadata": {},
   "source": [
    "**All of this \"hands-on\" is about two-dimensional functions.**\n",
    "\n",
    "The basic distribution is a bi-maxwellian. We can do essentially 2 operations :\n",
    "\n",
    "* add a maxwellian to a set of other maxwellians\n",
    "* truncate a population that is removing a piece of its tail\n",
    "\n",
    "The object which manipulates a distribution is `operationOnDistribution`"
   ]
  },
  {
   "cell_type": "code",
   "execution_count": 1,
   "metadata": {
    "ExecuteTime": {
     "end_time": "2021-05-18T09:40:28.095473Z",
     "start_time": "2021-05-18T09:40:27.774684Z"
    }
   },
   "outputs": [],
   "source": [
    "import numpy as np\n",
    "import operationOnDistribution"
   ]
  },
  {
   "cell_type": "markdown",
   "metadata": {},
   "source": [
    "Without any args, the constructor builds an empty object. Then, you can add a single maxwellian with default values of its parameters. With the `show` method, you can see the associated parameters of this set"
   ]
  },
  {
   "cell_type": "code",
   "execution_count": 2,
   "metadata": {
    "ExecuteTime": {
     "end_time": "2021-05-18T09:40:28.789417Z",
     "start_time": "2021-05-18T09:40:28.787379Z"
    }
   },
   "outputs": [],
   "source": [
    "myPop = operationOnDistribution.Populations()"
   ]
  },
  {
   "cell_type": "code",
   "execution_count": 3,
   "metadata": {
    "ExecuteTime": {
     "end_time": "2021-05-18T09:40:29.333191Z",
     "start_time": "2021-05-18T09:40:29.331168Z"
    }
   },
   "outputs": [],
   "source": [
    "myPop.add()"
   ]
  },
  {
   "cell_type": "code",
   "execution_count": 9,
   "metadata": {},
   "outputs": [
    {
     "name": "stdout",
     "output_type": "stream",
     "text": [
      "Population Id    1\n",
      "Density          1.0\n",
      "Bulk velocity    [0.0, 0.0]\n",
      "Thermal velocity [0.5, 0.5]\n",
      "Support          [[-inf, inf], [-inf, inf]]\n"
     ]
    }
   ],
   "source": [
    "myPop.show()"
   ]
  },
  {
   "cell_type": "markdown",
   "metadata": {},
   "source": [
    "### Display\n",
    "\n",
    "Then, you can display this set of maxwellians (at this stage, containing only a single one), but before, you need to build the associated function using the method `computeDIstrib`. This step is mandatory before the `display` method, but more generally whenever the list of individual maxwellian distributions is modified."
   ]
  },
  {
   "cell_type": "code",
   "execution_count": 10,
   "metadata": {},
   "outputs": [
    {
     "data": {
      "image/png": "[encoded data removed]",
      "text/plain": [
       "<Figure size 600x500 with 2 Axes>"
      ]
     },
     "metadata": {
      "needs_background": "light"
     },
     "output_type": "display_data"
    }
   ],
   "source": [
    "myPop.computeDistrib()\n",
    "myPop.display()"
   ]
  },
  {
   "cell_type": "markdown",
   "metadata": {},
   "source": [
    "There is also a method, called `cut`, that allows to (individually or collectively) modify the support of these maxwellians. The needed arg is a list of supports (lower and upper bounds) in the first and second direction, respectively."
   ]
  },
  {
   "cell_type": "code",
   "execution_count": 11,
   "metadata": {},
   "outputs": [
    {
     "data": {
      "image/png": "[encoded data removed]",
      "text/plain": [
       "<Figure size 600x500 with 2 Axes>"
      ]
     },
     "metadata": {
      "needs_background": "light"
     },
     "output_type": "display_data"
    }
   ],
   "source": [
    "myPop.cut(support=[[-np.inf, +np.inf], [-1, +np.inf]])\n",
    "myPop.computeDistrib()\n",
    "myPop.display()"
   ]
  },
  {
   "cell_type": "markdown",
   "metadata": {},
   "source": [
    "Because the distribution function has been updated, we can locally calculate the value of this distribution for a given value of the velocity (the two components)"
   ]
  },
  {
   "cell_type": "code",
   "execution_count": 12,
   "metadata": {},
   "outputs": [
    {
     "data": {
      "text/plain": [
       "0.6366197723675814"
      ]
     },
     "execution_count": 12,
     "metadata": {},
     "output_type": "execute_result"
    }
   ],
   "source": [
    "myPop.distrib(0,0)"
   ]
  },
  {
   "cell_type": "markdown",
   "metadata": {},
   "source": [
    "### Calculation of the moments\n",
    "\n",
    "Then, we have 4 methods to calculate the first 4 moments :\n",
    "* `density` returns the total scalar density\n",
    "* `bulk` returns a list containing the two components of the vectorial velocity : *V_0* and *V_1*\n",
    "* `pressure` returns a list with the 3 independant components of the full pressure tensor : *P_00*, *P_01* = *P_10* and *P_11*\n",
    "* `heatFlux` returns a list with the 4 independants components of the full heat flux : *q_000*, *q_001* = *q_010* = *q_100*, *q_011* = *q_101* = *q_110* and *q_111*"
   ]
  },
  {
   "cell_type": "markdown",
   "metadata": {},
   "source": [
    "So for our distribution, the support is decreased... meaning that the integral to calculate the density will be smaller. In the same way, there is a bulk velocity that will appear because this cut distribution is no more symetric. As we removed the negative part of $v_1$, then $V_0$ is still 0, and $V_1$ will get slightly positive..."
   ]
  },
  {
   "cell_type": "code",
   "execution_count": 13,
   "metadata": {},
   "outputs": [
    {
     "name": "stdout",
     "output_type": "stream",
     "text": [
      "density (moment of order 0) : 0.9772\n"
     ]
    }
   ],
   "source": [
    "n=myPop.density()"
   ]
  },
  {
   "cell_type": "code",
   "execution_count": 14,
   "metadata": {},
   "outputs": [
    {
     "name": "stdout",
     "output_type": "stream",
     "text": [
      "bulk[0] (moment of order 1) : 0.0000\n",
      "bulk[1] (moment of order 1) : 0.0276\n"
     ]
    }
   ],
   "source": [
    "w=myPop.bulk()"
   ]
  },
  {
   "cell_type": "markdown",
   "metadata": {},
   "source": [
    "### Question :\n",
    "\n",
    "Try to guess what should look like the 3 components of the full pressure tensor"
   ]
  },
  {
   "cell_type": "code",
   "execution_count": 15,
   "metadata": {},
   "outputs": [
    {
     "name": "stdout",
     "output_type": "stream",
     "text": [
      "pressure [0][0] (moment of order 2) : 0.2443\n",
      "pressure [0][1] (moment of order 2) : 0.0000\n",
      "pressure [1][1] (moment of order 2) : 0.2166\n"
     ]
    }
   ],
   "source": [
    "p=myPop.pressure()"
   ]
  },
  {
   "cell_type": "markdown",
   "metadata": {},
   "source": [
    "### Question :\n",
    "\n",
    "So the off-diagonal component of the full pressure tensor is null... despite the unsymmetric support. Could we create such an off-diagonal component with ann additional `cut` ? Yes, but which one ?"
   ]
  },
  {
   "cell_type": "code",
   "execution_count": null,
   "metadata": {},
   "outputs": [],
   "source": []
  },
  {
   "cell_type": "markdown",
   "metadata": {},
   "source": [
    "Now lets go back to the \"original\" distribution..."
   ]
  },
  {
   "cell_type": "code",
   "execution_count": 18,
   "metadata": {},
   "outputs": [],
   "source": [
    "myPop = operationOnDistribution.Populations()\n",
    "myPop.add()\n",
    "myPop.cut(support=[[-np.inf, +np.inf], [-1, +np.inf]])\n",
    "myPop.computeDistrib()"
   ]
  },
  {
   "cell_type": "markdown",
   "metadata": {},
   "source": [
    "### Question :\n",
    "\n",
    "Try to guess what should look like the 4 components of the full heat flux tensor"
   ]
  },
  {
   "cell_type": "code",
   "execution_count": 19,
   "metadata": {},
   "outputs": [
    {
     "name": "stdout",
     "output_type": "stream",
     "text": [
      "heat flux [0][0][0] (moment of order 3) : 0.0000\n",
      "heat flux [0][0][1] (moment of order 3) : -0.0000\n",
      "heat flux [0][1][1] (moment of order 3) : 0.0000\n",
      "heat flux [1][1][1] (moment of order 3) : 0.0225\n"
     ]
    }
   ],
   "source": [
    "q=myPop.heatFlux()"
   ]
  },
  {
   "cell_type": "markdown",
   "metadata": {},
   "source": [
    "### With a second population\n",
    "\n",
    "Now, we consider the case of two cold maxwellians drifting one relative to the other. In this case, \"cold\" means that the thermal velocity o the distribution is small compared to the bulk velocity."
   ]
  },
  {
   "cell_type": "code",
   "execution_count": 20,
   "metadata": {},
   "outputs": [
    {
     "name": "stdout",
     "output_type": "stream",
     "text": [
      "Population Id    1\n",
      "Density          1\n",
      "Bulk velocity    [-1.5, 0]\n",
      "Thermal velocity [0.3, 0.3]\n",
      "Support          [[-inf, inf], [-inf, inf]]\n",
      "Population Id    2\n",
      "Density          1\n",
      "Bulk velocity    [1.5, 0]\n",
      "Thermal velocity [0.3, 0.3]\n",
      "Support          [[-inf, inf], [-inf, inf]]\n"
     ]
    },
    {
     "data": {
      "image/png": "[encoded data removed]",
      "text/plain": [
       "<Figure size 600x500 with 2 Axes>"
      ]
     },
     "metadata": {
      "needs_background": "light"
     },
     "output_type": "display_data"
    }
   ],
   "source": [
    "myPop = operationOnDistribution.Populations()\n",
    "myPop.add(n=1, bulk=[-1.5, 0], vth=[0.3, 0.3])\n",
    "myPop.add(n=1, bulk=[+1.5, 0], vth=[0.3, 0.3])\n",
    "myPop.show()\n",
    "myPop.computeDistrib()\n",
    "myPop.display()"
   ]
  },
  {
   "cell_type": "markdown",
   "metadata": {},
   "source": [
    "### Question :\n",
    "\n",
    "Can you try to guess what are going to be the density, bulk velocity, full pressure and heat flux of such compound distribution ?"
   ]
  },
  {
   "cell_type": "code",
   "execution_count": null,
   "metadata": {},
   "outputs": [],
   "source": []
  },
  {
   "cell_type": "markdown",
   "metadata": {},
   "source": [
    "### The \"Zorro\" problem\n",
    "\n",
    "Day 4 of the formation, you have to manage a peculiar distribution in the kinetic case essentially resulting from the superposition of 3 cold distribution with a significant relative drift velocity. You can rebuild such a \"3-populations\" distribution, and then calculate the associated moments."
   ]
  },
  {
   "cell_type": "markdown",
   "metadata": {},
   "source": [
    "### Question :\n",
    "\n",
    "In this case, what could be an adapted closure equation... that means, how the heatflux, pressure, bulk velocity and density could be related ? You can play with the numerical solution, but also do it in an analytical way..."
   ]
  },
  {
   "cell_type": "code",
   "execution_count": null,
   "metadata": {},
   "outputs": [],
   "source": []
  }
 ],
 "metadata": {
  "kernelspec": {
   "display_name": "hpc/python3",
   "language": "python",
   "name": "conda-env-hpc-py"
  },
  "language_info": {
   "codemirror_mode": {
    "name": "ipython",
    "version": 3
   },
   "file_extension": ".py",
   "mimetype": "text/x-python",
   "name": "python",
   "nbconvert_exporter": "python",
   "pygments_lexer": "ipython3",
   "version": "3.10.13"
  },
  "varInspector": {
   "cols": {
    "lenName": 16,
    "lenType": 16,
    "lenVar": 40
   },
   "kernels_config": {
    "python": {
     "delete_cmd_postfix": "",
     "delete_cmd_prefix": "del ",
     "library": "var_list.py",
     "varRefreshCmd": "print(var_dic_list())"
    },
    "r": {
     "delete_cmd_postfix": ") ",
     "delete_cmd_prefix": "rm(",
     "library": "var_list.r",
     "varRefreshCmd": "cat(var_dic_list()) "
    }
   },
   "types_to_exclude": [
    "module",
    "function",
    "builtin_function_or_method",
    "instance",
    "_Feature"
   ],
   "window_display": false
  }
 },
 "nbformat": 4,
 "nbformat_minor": 4
}
