{
 "cells": [
  {
   "cell_type": "code",
   "execution_count": null,
   "id": "35168517",
   "metadata": {},
   "outputs": [],
   "source": [
    "%%bash\n",
    "export PYTHONPATH=$HOME/codes/far/build-release:$HOME/codes/far/PHARE/pyphare:$PYTHONPATH\n",
    "time mpirun -n 12 python weak.py"
   ]
  },
  {
   "cell_type": "code",
   "execution_count": null,
   "id": "34fc7024",
   "metadata": {},
   "outputs": [],
   "source": []
  },
  {
   "cell_type": "code",
   "execution_count": 1,
   "id": "7bf49a0d-1787-43f6-a40a-f46760907994",
   "metadata": {},
   "outputs": [],
   "source": [
    "import sys\n",
    "sys.path = [\"/home/smets/code/far/PHARE/pyphare\"] + sys.path"
   ]
  },
  {
   "cell_type": "code",
   "execution_count": 2,
   "id": "b8f1888c-2e2e-41bd-9fe0-d6f6719d9aea",
   "metadata": {},
   "outputs": [],
   "source": [
    "from pyphare.pharesee.run import Run\n",
    "import matplotlib.pyplot as plt\n",
    "import numpy as np\n",
    "from scipy.ndimage import gaussian_filter1d as gf\n",
    "from numpy import polyfit\n",
    "from scipy.signal import find_peaks\n",
    "# %matplotlib widget"
   ]
  },
  {
   "cell_type": "markdown",
   "id": "62d6f364",
   "metadata": {},
   "source": [
    "`root_path` is the directory where all about \"weak perturbation\" is. Should not be modified"
   ]
  },
  {
   "cell_type": "code",
   "execution_count": 3,
   "id": "d62c9b8c-c41c-4644-8b38-6a6f439bb81d",
   "metadata": {},
   "outputs": [],
   "source": [
    "root_path = \"/home/smets/codes/far/farMe/fluKin/weak/\""
   ]
  },
  {
   "cell_type": "code",
   "execution_count": null,
   "id": "02bfe680",
   "metadata": {},
   "outputs": [],
   "source": []
  },
  {
   "cell_type": "code",
   "execution_count": 4,
   "id": "1fce9ada",
   "metadata": {},
   "outputs": [],
   "source": [
    "def get_velocities(run, times, sigma=6):\n",
    "    \"\"\"\n",
    "    return an array (x-location) and a list of array (x-velocity) for each time in times for the ions\n",
    "    \"\"\"\n",
    "    for it, t in enumerate(times):\n",
    "        V = run.GetVi(t, merged=True)\n",
    "        Vx_interpolator = V[\"Vx\"][0]\n",
    "        x_ = V[\"Vx\"][1][0]\n",
    "        if sigma >0:\n",
    "            v = gf(Vx_interpolator(x_), sigma)\n",
    "        else:\n",
    "            v = Vx_interpolator(x_)\n",
    "        if it==0 :\n",
    "            Vx_ = np.zeros((len(v), len(times)))\n",
    "        Vx_[:, it] = v\n",
    "    return x_, Vx_"
   ]
  },
  {
   "cell_type": "code",
   "execution_count": 5,
   "id": "d555129b",
   "metadata": {},
   "outputs": [],
   "source": [
    "def get_peaks(x, Vs):\n",
    "    nt = Vs.shape[1]\n",
    "    positions  = np.zeros((nt, 2))\n",
    "    amplitudes = np.zeros((nt, 2))\n",
    "    for it in range(nt):\n",
    "        ps = find_peaks(Vs[:, it], height=0.01)\n",
    "        if (len(ps[0])==1):\n",
    "            positions[it, 0] = x[ps[0]]\n",
    "            positions[it, 1] = x[ps[0]]\n",
    "            \n",
    "            amplitudes[it, 0]  = Vs[ps[0][0], it]\n",
    "            amplitudes[it, 1]  = Vs[ps[0][0], it]\n",
    "        else:\n",
    "            positions[it, 0]  = x[ps[0][0]]\n",
    "            positions[it, 1]  = x[ps[0][1]]\n",
    "            \n",
    "            amplitudes[it, 0]  = Vs[ps[0][0], it]\n",
    "            amplitudes[it, 1]  = Vs[ps[0][1], it]\n",
    "    return positions, amplitudes"
   ]
  },
  {
   "cell_type": "markdown",
   "id": "54ed7ba8",
   "metadata": {},
   "source": [
    "`path` contains a dict of electron temperatures and the name of the dir where the data are"
   ]
  },
  {
   "cell_type": "code",
   "execution_count": 9,
   "id": "346fe76d-0391-45d5-929e-f28c4d457cb1",
   "metadata": {},
   "outputs": [],
   "source": [
    "paths = {0.1: \"run1\",\n",
    "        } "
   ]
  },
  {
   "cell_type": "markdown",
   "id": "6e54f333",
   "metadata": {},
   "source": [
    "The `profiles` function displays the velocity profiles at a set of times for a given electron temperature"
   ]
  },
  {
   "cell_type": "code",
   "execution_count": 10,
   "id": "27583ece",
   "metadata": {},
   "outputs": [],
   "source": [
    "def profiles(times, x, Vs, positions, temperature):\n",
    "    fig, ax = plt.subplots()\n",
    "    for it,t in enumerate(times):\n",
    "        ax.plot(x, Vs[:,it], label=r\"t={:6.4f}\".format(t))\n",
    "        ax.set_ylim((-0.03, 0.1))\n",
    "        ax.axhline(0, ls='--', color='k')\n",
    "        for p in positions[it,:]:\n",
    "            ax.axvline(p, color=\"gray\", ls=\"-.\")\n",
    "    ax.set_title(\"T = {:6.4f}\".format(temperature))\n",
    "    ax.legend()"
   ]
  },
  {
   "cell_type": "markdown",
   "id": "ccfcc99b",
   "metadata": {},
   "source": [
    "Here is what is going on at `t=[0, 25, 50, 75, 100`"
   ]
  },
  {
   "cell_type": "code",
   "execution_count": 12,
   "id": "19c054f2",
   "metadata": {},
   "outputs": [
    {
     "data": {
      "image/png": "[encoded data removed]",
      "text/plain": [
       "<Figure size 432x288 with 1 Axes>"
      ]
     },
     "metadata": {
      "needs_background": "light"
     },
     "output_type": "display_data"
    }
   ],
   "source": [
    "for temperature, path in paths.items():\n",
    "    r = Run(root_path+\"/\"+path)\n",
    "    times   = np.asarray((0, 25, 50, 75, 100))\n",
    "    x, Vs   = get_velocities(r,times, sigma=6)\n",
    "    positions, amplitudes = get_peaks(x,Vs)\n",
    "    profiles(times, x, Vs, positions, temperature)"
   ]
  },
  {
   "cell_type": "code",
   "execution_count": 13,
   "id": "1ae99b79",
   "metadata": {},
   "outputs": [
    {
     "data": {
      "text/plain": [
       "array([[64.  , 64.  ],\n",
       "       [57.75, 72.  ],\n",
       "       [51.25, 80.  ],\n",
       "       [45.  , 87.5 ],\n",
       "       [39.25, 95.5 ]])"
      ]
     },
     "execution_count": 13,
     "metadata": {},
     "output_type": "execute_result"
    }
   ],
   "source": [
    "positions"
   ]
  },
  {
   "cell_type": "code",
   "execution_count": 14,
   "id": "c37bbdd4",
   "metadata": {},
   "outputs": [
    {
     "data": {
      "text/plain": [
       "array([[0.06254075, 0.06254075],\n",
       "       [0.02825869, 0.02547189],\n",
       "       [0.02589598, 0.02001423],\n",
       "       [0.02001346, 0.01662709],\n",
       "       [0.01805499, 0.01574901]])"
      ]
     },
     "execution_count": 14,
     "metadata": {},
     "output_type": "execute_result"
    }
   ],
   "source": [
    "amplitudes"
   ]
  },
  {
   "cell_type": "markdown",
   "id": "89f98629",
   "metadata": {},
   "source": [
    "Amplitude is decreasing... what about the total energy contained ? does it conserve ?"
   ]
  },
  {
   "cell_type": "code",
   "execution_count": null,
   "id": "4839b37b",
   "metadata": {},
   "outputs": [],
   "source": []
  },
  {
   "cell_type": "code",
   "execution_count": null,
   "id": "981af84f",
   "metadata": {},
   "outputs": [],
   "source": []
  },
  {
   "cell_type": "code",
   "execution_count": null,
   "id": "23e58b17",
   "metadata": {},
   "outputs": [],
   "source": [
    "def get_densities(r,times, sigma=6):\n",
    "    for it,t in enumerate(times):\n",
    "        N = r.GetNi(t, merged=True)\n",
    "        Ni = N[\"rho\"][0]\n",
    "        x = N[\"rho\"][1][0]\n",
    "        if sigma >0:\n",
    "            n = gf(Ni(x),sigma)\n",
    "        else:\n",
    "            n = Ni(x)\n",
    "        if it==0 :\n",
    "            nt = np.zeros((len(n),len(times)))\n",
    "        nt[:,it] = n\n",
    "    return x, nt"
   ]
  },
  {
   "cell_type": "code",
   "execution_count": null,
   "id": "1e7f0ea3",
   "metadata": {},
   "outputs": [],
   "source": [
    "def get_electric(r,times, sigma=6):\n",
    "    for it,t in enumerate(times):\n",
    "        E = r.GetE(t, merged=True)\n",
    "        Ex = E[\"Ex\"][0]\n",
    "        x = E[\"Ex\"][1][0]\n",
    "        if sigma >0:\n",
    "            e = gf(Ex(x),sigma)\n",
    "        else:\n",
    "            e = Ex(x)\n",
    "        if it==0 :\n",
    "            et = np.zeros((len(e),len(times)))\n",
    "        et[:,it] = e\n",
    "    return x, et"
   ]
  },
  {
   "cell_type": "code",
   "execution_count": null,
   "id": "d7fac4eb",
   "metadata": {},
   "outputs": [],
   "source": [
    "def propagation(times, positions, temperature):\n",
    "    fig,ax = plt.subplots()\n",
    "    ax.plot(times,positions[:,0], marker=\"o\", color=\"r\", ls=\"None\")\n",
    "    vl,originl = polyfit(times, positions[:,0], 1)\n",
    "    ax.plot(times, times*vl+originl, color=\"r\")\n",
    "\n",
    "    ax.plot(times,positions[:,1], marker=\"o\", color=\"b\", ls=\"None\")\n",
    "    vr,originr = polyfit(times, positions[:,1], 1)\n",
    "    ax.plot(times, times*vr+originr, color=\"b\")\n",
    "    ax.set_title(\"T = {:6.4f}, Vl = {:6.4f}, Vr = {:6.4f}\".format(temperature, vl, vr))"
   ]
  },
  {
   "cell_type": "code",
   "execution_count": null,
   "id": "caab7941-892c-4430-9fa6-a42921e9718f",
   "metadata": {},
   "outputs": [],
   "source": [
    "def damping(times, amplitudes, **kw):\n",
    "    fig,ax = plt.subplots()\n",
    "    ax.plot(times,amplitudes[:,0], marker=\"o\", color=\"r\", ls=\"None\")\n",
    "    ax.plot(times,amplitudes[:,1], marker=\"o\", color=\"b\", ls=\"None\")\n",
    "    ax.set_ylim((0,0.1))"
   ]
  },
  {
   "cell_type": "code",
   "execution_count": null,
   "id": "d2c82c87",
   "metadata": {},
   "outputs": [],
   "source": []
  },
  {
   "cell_type": "code",
   "execution_count": null,
   "id": "ffca3730",
   "metadata": {},
   "outputs": [],
   "source": []
  },
  {
   "cell_type": "code",
   "execution_count": null,
   "id": "06de3505",
   "metadata": {},
   "outputs": [],
   "source": []
  },
  {
   "cell_type": "code",
   "execution_count": null,
   "id": "b5eff120",
   "metadata": {},
   "outputs": [],
   "source": []
  },
  {
   "cell_type": "code",
   "execution_count": null,
   "id": "aad06678",
   "metadata": {},
   "outputs": [],
   "source": []
  },
  {
   "cell_type": "code",
   "execution_count": null,
   "id": "2b4fe25f-97f8-4927-b841-2d9f91ff0fa7",
   "metadata": {},
   "outputs": [],
   "source": [
    "for temperature, path in paths.items():\n",
    "    r = Run(root_path+\"/\"+path)\n",
    "    times   = np.asarray((0,25,50,75,100))\n",
    "    x, Vs   = get_velocities(r,times, sigma=6)\n",
    "    positions, amplitudes = get_peaks(x,Vs)\n",
    "    profiles(times, x, Vs, positions, temperature)\n",
    "    propagation(times, positions, temperature)\n",
    "    damping(times, amplitudes)"
   ]
  },
  {
   "cell_type": "code",
   "execution_count": null,
   "id": "62045c9a-8fd5-4c35-8a77-cc07883f65a1",
   "metadata": {},
   "outputs": [],
   "source": [
    "t=25\n",
    "r = Run(root_path+\"/\"+\"wp3\")\n",
    "ions = r.GetParticles(t, [\"protons\",])\n",
    "fig, ax1 = plt.subplots(figsize=(10,4))\n",
    "p,f = ions.dist_plot(axis=(\"x\", \"Vx\"), # default [Vx,Vy]\n",
    "               ax=ax1,            # default creates the figure\n",
    "               norm = 0.4,     # max value, min is 0\n",
    "                finest=True,  # only consider finest particles possible\n",
    "               gaussian_filter_sigma=1,\n",
    "               vmin=-1,vmax=1,\n",
    "               dv=0.05,\n",
    "               title=\"weak perturbation  t = {:.4f}\".format(t), # figure title\n",
    "              )"
   ]
  }
 ],
 "metadata": {
  "kernelspec": {
   "display_name": "Python 3 (ipykernel)",
   "language": "python",
   "name": "python3"
  },
  "language_info": {
   "codemirror_mode": {
    "name": "ipython",
    "version": 3
   },
   "file_extension": ".py",
   "mimetype": "text/x-python",
   "name": "python",
   "nbconvert_exporter": "python",
   "pygments_lexer": "ipython3",
   "version": "3.11.6"
  }
 },
 "nbformat": 4,
 "nbformat_minor": 5
}
