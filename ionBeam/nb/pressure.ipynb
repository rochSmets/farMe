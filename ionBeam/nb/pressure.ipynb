{
 "cells": [
  {
   "cell_type": "code",
   "execution_count": null,
   "id": "5be64b13-0003-456a-aabc-60c56f5eea24",
   "metadata": {
    "tags": []
   },
   "outputs": [],
   "source": [
    "import sys\n",
    "import os\n",
    "sys.path.append(\"/home/smets/codes/far/PHARE/pyphare/\")\n",
    "import pyphare\n",
    "import matplotlib.pyplot as plt\n",
    "from pyphare.pharesee.run import Run\n",
    "import numpy as np\n",
    "%matplotlib widget"
   ]
  },
  {
   "cell_type": "code",
   "execution_count": null,
   "id": "cbd51fe5-5669-4c6d-8b84-554cac968edf",
   "metadata": {
    "tags": []
   },
   "outputs": [],
   "source": [
    "run_path = \"/DATA/phare/ionBeam/run01/01a\"\n",
    "os.listdir(run_path)"
   ]
  },
  {
   "cell_type": "code",
   "execution_count": null,
   "id": "b4afda63-c8fd-473f-a54d-de43ad8c4288",
   "metadata": {
    "tags": []
   },
   "outputs": [],
   "source": [
    "run  = Run(run_path)\n",
    "time = 10.0"
   ]
  },
  {
   "cell_type": "markdown",
   "id": "9c6c7a7f-006b-454d-b6e1-b72a617e0d54",
   "metadata": {},
   "source": [
    "**Get the `main` hierarchy (the other population `beam` is not considered here)**"
   ]
  },
  {
   "cell_type": "code",
   "execution_count": null,
   "id": "1bfca2a2-1f8d-48d2-b615-5ed1206a45ee",
   "metadata": {
    "tags": []
   },
   "outputs": [],
   "source": [
    "main_hier = run.GetParticles(time, \"main\")"
   ]
  },
  {
   "cell_type": "markdown",
   "id": "31047dd5-4dc8-4a4a-aba4-9ba9d9402bd3",
   "metadata": {},
   "source": [
    "**Get the domain box to eventually create sub-box to locally define the pressure**"
   ]
  },
  {
   "cell_type": "code",
   "execution_count": null,
   "id": "cefcc7a8-c725-490f-80fa-f711a51aa7ba",
   "metadata": {
    "tags": []
   },
   "outputs": [],
   "source": [
    "domain_box = main_hier.domain_box"
   ]
  },
  {
   "cell_type": "markdown",
   "id": "259dd375-d852-42cc-82b9-b0706ebeb6d6",
   "metadata": {
    "execution": {
     "iopub.execute_input": "2023-05-31T06:50:50.484277Z",
     "iopub.status.busy": "2023-05-31T06:50:50.483874Z",
     "iopub.status.idle": "2023-05-31T06:50:50.488158Z",
     "shell.execute_reply": "2023-05-31T06:50:50.487550Z",
     "shell.execute_reply.started": "2023-05-31T06:50:50.484253Z"
    },
    "tags": []
   },
   "source": [
    "**Get the interpolator for each B component (for velocity projection) with `merged=True` option**"
   ]
  },
  {
   "cell_type": "code",
   "execution_count": null,
   "id": "b6806029-00c4-4a95-8e05-a32614984a8e",
   "metadata": {
    "tags": []
   },
   "outputs": [],
   "source": [
    "Bx, xy = run.GetB(time, merged=True, interp='nearest')['Bx']\n",
    "By, xy = run.GetB(time, merged=True, interp='nearest')['By']\n",
    "Bz, xy = run.GetB(time, merged=True, interp='nearest')['Bz']"
   ]
  },
  {
   "cell_type": "markdown",
   "id": "d0ed10aa-e887-4191-b5d8-d94d8b0cdacc",
   "metadata": {
    "execution": {
     "iopub.execute_input": "2023-05-31T07:06:37.963152Z",
     "iopub.status.busy": "2023-05-31T07:06:37.962736Z",
     "iopub.status.idle": "2023-05-31T07:06:37.966982Z",
     "shell.execute_reply": "2023-05-31T07:06:37.966375Z",
     "shell.execute_reply.started": "2023-05-31T07:06:37.963127Z"
    },
    "tags": []
   },
   "source": [
    "**Create the `p_parallel` and `p_perp` arrays on L0 level**"
   ]
  },
  {
   "cell_type": "code",
   "execution_count": null,
   "id": "9292b896-85cc-4631-9926-8b6b2a884d07",
   "metadata": {
    "tags": []
   },
   "outputs": [],
   "source": [
    "n0 = (run.GetDomainSize()/run.GetDl()).astype(int)\n",
    "\n",
    "#num_of_part = np.zeros(n0)\n",
    "#v_parallel  = np.zeros(n0)\n",
    "#p_parallel  = np.zeros(n0)\n",
    "#v_perp      = np.zeros(n0)\n",
    "#p_perp      = np.zeros(n0)\n",
    "\n",
    "num_of_part = np.ones(n0)\n",
    "v_parallel  = np.ones(n0)\n",
    "p_parallel  = np.ones(n0)\n",
    "v_perp      = np.ones(n0)\n",
    "p_perp      = np.ones(n0)"
   ]
  },
  {
   "cell_type": "markdown",
   "id": "ec4a826e-ff2d-482b-9088-f064b6c95ce3",
   "metadata": {},
   "source": [
    "**Iteration through the particle hierarchy to get the particle velocity (parallel and perp)**"
   ]
  },
  {
   "cell_type": "code",
   "execution_count": null,
   "id": "8cd7fc2e-13f3-4a28-a1f7-aaf6902ff708",
   "metadata": {
    "tags": []
   },
   "outputs": [],
   "source": [
    "for ilvl, lvl in main_hier.levels(time).items():\n",
    "    for patch in lvl.patches:\n",
    "        mpi_rank, patch_id = patch.id.strip('p').split('#')\n",
    "        #print(\"mpi rank = {0} , patch id = {1}\".format(mpi_rank, patch_id))\n",
    "        pdata = patch.patch_datas['main_domain']\n",
    "        icells = pdata.dataset.iCells\n",
    "        uvws = pdata.dataset.v\n",
    "        # this loop is quite slow... but interpolators do not accept arrays as entry\n",
    "        for index in np.arange(icells.shape[0]):\n",
    "            i, j = icells[index,0], icells[index,1]\n",
    "            B = np.asarray([Bx(i, j), By(i, j), Bz(i, j)])\n",
    "            bb = np.sqrt(B.dot(B))\n",
    "            b = B/bb\n",
    "            v = np.asarray([uvws[index,0], uvws[index,1], uvws[index,2]])\n",
    "            v_parallel[i, j] = np.dot(v, b)\n",
    "            vp_              = np.cross(v, b)\n",
    "            v_perp[i, j]     = np.sqrt(vp_.dot(vp_))\n",
    "            num_of_part[i, j] += 1\n",
    "            #break\n",
    "v_parallel = v_parallel/num_of_part\n",
    "v_perp = v_perp/num_of_part"
   ]
  },
  {
   "cell_type": "code",
   "execution_count": null,
   "id": "026142dd-3587-4d57-898b-9cedce7a1f70",
   "metadata": {
    "tags": []
   },
   "outputs": [],
   "source": [
    "v_parallel.max()"
   ]
  },
  {
   "cell_type": "markdown",
   "id": "2d80c0d3-3b50-4f54-a62f-5a1e4b453508",
   "metadata": {},
   "source": [
    "**Then, 2D-image of the parallel velocity**"
   ]
  },
  {
   "cell_type": "code",
   "execution_count": null,
   "id": "78eb0f63-0158-4ab1-8506-c5d584f35aa6",
   "metadata": {
    "tags": []
   },
   "outputs": [],
   "source": [
    "x = np.linspace(0, run.GetDomainSize()[0], n0[0]+1)\n",
    "y = np.linspace(0, run.GetDomainSize()[1], n0[1]+1)\n",
    "\n",
    "xv, yv = np.meshgrid(x, y, indexing = 'ij')\n",
    "\n",
    "fig, ax = plt.subplots()\n",
    "\n",
    "im = ax.pcolormesh(xv, yv, v_parallel, cmap = 'viridis')\n",
    "plt.colorbar(im)"
   ]
  },
  {
   "cell_type": "code",
   "execution_count": null,
   "id": "aa69e619-2de9-4d7d-b6a4-3270f678f996",
   "metadata": {
    "tags": []
   },
   "outputs": [],
   "source": [
    "print(n0[0])\n",
    "print(x)"
   ]
  },
  {
   "cell_type": "code",
   "execution_count": null,
   "id": "12a62077-dac2-481a-8290-f0634706b1d8",
   "metadata": {},
   "outputs": [],
   "source": []
  }
 ],
 "metadata": {
  "kernelspec": {
   "display_name": "space/python3",
   "language": "python",
   "name": "conda-env-space-py"
  },
  "language_info": {
   "codemirror_mode": {
    "name": "ipython",
    "version": 3
   },
   "file_extension": ".py",
   "mimetype": "text/x-python",
   "name": "python",
   "nbconvert_exporter": "python",
   "pygments_lexer": "ipython3",
   "version": "3.10.10"
  }
 },
 "nbformat": 4,
 "nbformat_minor": 5
}
