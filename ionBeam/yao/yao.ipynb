{
 "cells": [
  {
   "cell_type": "code",
   "execution_count": null,
   "id": "b832aac1-76b3-428d-b8bc-ac45de9f1cbe",
   "metadata": {},
   "outputs": [],
   "source": [
    "# Not needed as it is the default mode in jupytherHub\n",
    "# %matplotlib inline"
   ]
  },
  {
   "cell_type": "code",
   "execution_count": null,
   "id": "ec80f0fc-e9d5-4dec-9b50-fe3ae4373ebc",
   "metadata": {},
   "outputs": [],
   "source": [
    "# import logging\n",
    "# logger = logging.getLogger()\n",
    "# logger.setLevel(logging.CRITICAL)"
   ]
  },
  {
   "cell_type": "code",
   "execution_count": null,
   "id": "55e84497-8f95-48da-a27c-4bb034acca58",
   "metadata": {},
   "outputs": [],
   "source": [
    "import logging\n",
    "logging.getLogger('h5py').setLevel(logging.INFO)\n",
    "logging.getLogger('matplotlib').setLevel(logging.INFO)"
   ]
  },
  {
   "cell_type": "code",
   "execution_count": null,
   "id": "df15d782-77f0-40c7-a36f-86b5b34e7ae0",
   "metadata": {},
   "outputs": [],
   "source": [
    "import sys\n",
    "import logging\n",
    "\n",
    "for m in sys.modules:\n",
    "    logging.getLogger(m).setLevel(logging.INFO)"
   ]
  },
  {
   "cell_type": "code",
   "execution_count": 1,
   "id": "fc616b3f-27bf-452a-9359-a3db4c2c97ae",
   "metadata": {},
   "outputs": [],
   "source": [
    "import sys\n",
    "sys.path.append(\"/home/smets/codes/far/PHARE/pyphare/\")\n",
    "import pyphare\n",
    "import matplotlib.pyplot as plt\n",
    "from pyphare.pharesee.run import Run\n",
    "import numpy as np"
   ]
  },
  {
   "cell_type": "code",
   "execution_count": 2,
   "id": "01fe4e9c-3020-4148-9ce7-851a61fea5bf",
   "metadata": {},
   "outputs": [],
   "source": [
    "path_to_run = \"/home/smets/far/farMe/ionBeam/yao/run/yao-01a/\""
   ]
  },
  {
   "cell_type": "code",
   "execution_count": 3,
   "id": "c74c34ca-6d20-4bbb-a46a-d9a96784a8b3",
   "metadata": {
    "editable": true,
    "slideshow": {
     "slide_type": ""
    },
    "tags": []
   },
   "outputs": [
    {
     "name": "stdout",
     "output_type": "stream",
     "text": [
      "EM_B.h5               ions_pop_beam_density.h5  ions_pop_main_domain.h5\n",
      "EM_E.h5               ions_pop_beam_domain.h5   ions_pop_main_flux.h5\n",
      "ions_bulkVelocity.h5  ions_pop_beam_flux.h5\n",
      "ions_density.h5       ions_pop_main_density.h5\n"
     ]
    }
   ],
   "source": [
    "ls $path_to_run"
   ]
  },
  {
   "cell_type": "code",
   "execution_count": 4,
   "id": "613003f6-0157-44e0-9b4b-c6dab817ba27",
   "metadata": {},
   "outputs": [],
   "source": [
    "run = Run(path_to_run)"
   ]
  },
  {
   "cell_type": "code",
   "execution_count": 5,
   "id": "3c74092e-aa1c-40f0-bdb1-eb707e621082",
   "metadata": {},
   "outputs": [
    {
     "name": "stdout",
     "output_type": "stream",
     "text": [
      "['/home/smets/far/farMe/ionBeam/yao/run/yao-01a/EM_B.h5', '/home/smets/far/farMe/ionBeam/yao/run/yao-01a/EM_E.h5', '/home/smets/far/farMe/ionBeam/yao/run/yao-01a/ions_bulkVelocity.h5', '/home/smets/far/farMe/ionBeam/yao/run/yao-01a/ions_density.h5', '/home/smets/far/farMe/ionBeam/yao/run/yao-01a/ions_pop_beam_density.h5', '/home/smets/far/farMe/ionBeam/yao/run/yao-01a/ions_pop_beam_domain.h5', '/home/smets/far/farMe/ionBeam/yao/run/yao-01a/ions_pop_beam_flux.h5', '/home/smets/far/farMe/ionBeam/yao/run/yao-01a/ions_pop_main_density.h5', '/home/smets/far/farMe/ionBeam/yao/run/yao-01a/ions_pop_main_domain.h5', '/home/smets/far/farMe/ionBeam/yao/run/yao-01a/ions_pop_main_flux.h5']\n",
      "EM_B\n",
      "EM_E\n",
      "ions_bulkVelocity\n",
      "ions_density\n",
      "ions_pop_beam_density\n"
     ]
    },
    {
     "ename": "KeyError",
     "evalue": "'ions_pop_beam_density'",
     "output_type": "error",
     "traceback": [
      "\u001b[0;31m---------------------------------------------------------------------------\u001b[0m",
      "\u001b[0;31mKeyError\u001b[0m                                  Traceback (most recent call last)",
      "Cell \u001b[0;32mIn[5], line 3\u001b[0m\n\u001b[1;32m      1\u001b[0m \u001b[38;5;28mdir\u001b[39m(run)\n\u001b[1;32m      2\u001b[0m \u001b[38;5;28mprint\u001b[39m(run\u001b[38;5;241m.\u001b[39mavailable_diags)\n\u001b[0;32m----> 3\u001b[0m \u001b[43mrun\u001b[49m\u001b[38;5;241;43m.\u001b[39;49m\u001b[43mall_times\u001b[49m\u001b[43m(\u001b[49m\u001b[43m)\u001b[49m\n",
      "File \u001b[0;32m~/far/PHARE/pyphare/pyphare/pharesee/run/run.py:289\u001b[0m, in \u001b[0;36mRun.all_times\u001b[0;34m(self)\u001b[0m\n\u001b[1;32m    287\u001b[0m         time[it] \u001b[38;5;241m=\u001b[39m \u001b[38;5;28mfloat\u001b[39m(t)\n\u001b[1;32m    288\u001b[0m         \u001b[38;5;66;03m# print(t)\u001b[39;00m\n\u001b[0;32m--> 289\u001b[0m     ts[\u001b[43mquantities_per_file\u001b[49m\u001b[43m[\u001b[49m\u001b[43mbasename\u001b[49m\u001b[43m]\u001b[49m] \u001b[38;5;241m=\u001b[39m time\n\u001b[1;32m    290\u001b[0m     ff\u001b[38;5;241m.\u001b[39mclose()\n\u001b[1;32m    291\u001b[0m \u001b[38;5;28;01mreturn\u001b[39;00m ts\n",
      "\u001b[0;31mKeyError\u001b[0m: 'ions_pop_beam_density'"
     ]
    }
   ],
   "source": [
    "dir(run)\n",
    "print(run.available_diags)\n",
    "run.all_times()"
   ]
  },
  {
   "cell_type": "code",
   "execution_count": 6,
   "id": "05885982-6a27-4560-8cd9-4e8d2996962b",
   "metadata": {
    "editable": true,
    "slideshow": {
     "slide_type": ""
    },
    "tags": []
   },
   "outputs": [],
   "source": [
    "time = 10."
   ]
  },
  {
   "cell_type": "code",
   "execution_count": 7,
   "id": "15598961-3799-4f2f-b542-0a5f69a5a99b",
   "metadata": {},
   "outputs": [],
   "source": [
    "Ni = run.GetNi(time)"
   ]
  },
  {
   "cell_type": "code",
   "execution_count": 9,
   "id": "4851fab7-4726-4b38-bbd6-6e7887740e2e",
   "metadata": {},
   "outputs": [
    {
     "name": "stdout",
     "output_type": "stream",
     "text": [
      "dict_keys(['value'])\n"
     ]
    }
   ],
   "source": [
    "for ilvl, lvl in Ni.levels(time).items():\n",
    "    for patch in lvl.patches:\n",
    "        print(patch.patch_datas.keys())\n",
    "        break"
   ]
  },
  {
   "cell_type": "code",
   "execution_count": 10,
   "id": "00c1a49e-727a-4114-89b4-98ef272947e5",
   "metadata": {},
   "outputs": [
    {
     "data": {
      "text/plain": [
       "(<Figure size 640x480 with 2 Axes>, <Axes: xlabel='x', ylabel='y'>)"
      ]
     },
     "execution_count": 10,
     "metadata": {},
     "output_type": "execute_result"
    },
    {
     "data": {
      "image/png": "[encoded data removed]",
      "text/plain": [
       "<Figure size 640x480 with 2 Axes>"
      ]
     },
     "metadata": {},
     "output_type": "display_data"
    }
   ],
   "source": [
    "fig, ax = plt.subplots()\n",
    "\n",
    "Ni.plot(qty=\"value\",\n",
    "        cmap=\"viridis_r\",\n",
    "        vmin=0.95,\n",
    "        vmax=1.05,\n",
    "        plot_patches=True,\n",
    "        lw=[0.8],\n",
    "        ax=ax,\n",
    "       )"
   ]
  },
  {
   "cell_type": "code",
   "execution_count": null,
   "id": "a7782c59-a05a-4595-bfd9-374d236981c5",
   "metadata": {},
   "outputs": [],
   "source": [
    "E = run.GetE(time)"
   ]
  },
  {
   "cell_type": "code",
   "execution_count": null,
   "id": "76f289d9-fcd7-4ca9-8bca-4793b7558a9e",
   "metadata": {},
   "outputs": [],
   "source": [
    "E.plot(qty=\"Ex\",\n",
    "        cmap=\"viridis_r\",\n",
    "        vmin=-0.2,\n",
    "        vmax=+0.2,\n",
    "       )"
   ]
  },
  {
   "cell_type": "code",
   "execution_count": null,
   "id": "d3167342-2957-48b1-9b5c-66adfa0b1028",
   "metadata": {},
   "outputs": [],
   "source": [
    "file = \"ions_pop_beam_domain.h5\"\n",
    "times = get_times_from_h5(path_to_run+file)\n",
    "print(times)"
   ]
  },
  {
   "cell_type": "code",
   "execution_count": null,
   "id": "df3e4f1f-42c4-477e-9b2c-ef9b7f75a757",
   "metadata": {},
   "outputs": [],
   "source": [
    "ions = run.GetParticles(time, [\"beam\", \"main\"])\n",
    "# ions = run.GetParticles(time, [\"main\"])"
   ]
  },
  {
   "cell_type": "code",
   "execution_count": null,
   "id": "bf69eee3-9a68-48fa-9afd-b8e7333bb949",
   "metadata": {},
   "outputs": [],
   "source": [
    "for ilvl, lvl in ions.levels(time).items():\n",
    "    for patch in lvl.patches:\n",
    "        print(patch.patch_datas.keys())\n",
    "        break"
   ]
  },
  {
   "cell_type": "code",
   "execution_count": null,
   "id": "53202d24-339f-4e6f-bac5-685546119307",
   "metadata": {},
   "outputs": [],
   "source": [
    "fig, ax = plt.subplots()\n",
    "\n",
    "vmin, vmax = -3.0,+8.0\n",
    "\n",
    "ions.dist_plot(axis=(\"x\", \"Vx\"),\n",
    "    ax = ax,\n",
    "    norm = 0.4,\n",
    "    finest=True,\n",
    "    gaussian_filter_sigma = (1,1) ,\n",
    "    vmin=vmin,vmax=vmax,\n",
    "    dv=0.05,\n",
    "    title=\"time = {:.1f}\".format(time),\n",
    "    xlabel = \"\",\n",
    "    ylabel = \"\"\n",
    "    )"
   ]
  },
  {
   "cell_type": "markdown",
   "id": "db207222-23b2-4ce9-a930-f4b7d3bacede",
   "metadata": {},
   "source": [
    "Each `PatchLevel` itself has a collection of patches obtainable as a simple list. Here we print the patch ID for each patch of each level.\\\n",
    "The patch ID is just MPI_Rank#localPatchID"
   ]
  },
  {
   "cell_type": "code",
   "execution_count": null,
   "id": "aa1abbf4-84cf-4fb5-a8d2-f55b57ffd894",
   "metadata": {},
   "outputs": [],
   "source": [
    "for ilvl, lvl in E.levels(time).items():\n",
    "    for patch in lvl.patches:\n",
    "        print(patch.id)\n",
    "        # break  # break not to have a huge list printed"
   ]
  },
  {
   "cell_type": "markdown",
   "id": "40b8a3eb-f717-4a52-a99c-f399f31b83aa",
   "metadata": {},
   "source": [
    "Let's practice a bit and for instance count how many patches there are in each level:"
   ]
  },
  {
   "cell_type": "code",
   "execution_count": null,
   "id": "b1a0a7c3-24cd-41e9-96c3-1c5ea714eb9f",
   "metadata": {},
   "outputs": [],
   "source": [
    "count = {}\n",
    "for ilvl, lvl in E.levels(time).items():\n",
    "    count[ilvl] = len(lvl.patches)\n",
    "print(count)"
   ]
  },
  {
   "cell_type": "markdown",
   "id": "3efbdc86-47b2-4024-b093-defb7cde9a83",
   "metadata": {},
   "source": [
    "and now a more complex example, let's make a histogram of the number of cells per level\\\n",
    "Here we use the fact that a `Patch` is an object that has a `Box` representing its domain, for which the number of cells can be obtained with the method `nCells()`"
   ]
  },
  {
   "cell_type": "code",
   "execution_count": null,
   "id": "01b97bfd-8c4e-424b-8387-0b2bf6a6f718",
   "metadata": {},
   "outputs": [],
   "source": [
    "cells = {ilvl:[] for ilvl in E.levels(time).keys()}\n",
    "for ilvl, lvl in E.levels(time).items():\n",
    "    for patch in lvl.patches:\n",
    "        cells[ilvl] += [ patch.box.nCells() ]\n",
    "print(cells)\n",
    "    \n",
    "fig, (ax1,ax2,ax3) = plt.subplots(ncols=3, figsize=(10,4))\n",
    "for ilvl,ax in enumerate((ax1,ax2, ax3)):\n",
    "    ax.hist(cells[ilvl], bins=10)\n",
    "    ax.set_title(f\"Level {ilvl}\")\n",
    "    #ax.set_xscale(\"log\")\n",
    "    ax.set_yscale(\"log\")\n",
    "fig.tight_layout()"
   ]
  },
  {
   "cell_type": "code",
   "execution_count": null,
   "id": "7c24bf2e-adef-45fd-9816-e4516d53b455",
   "metadata": {},
   "outputs": [],
   "source": []
  },
  {
   "cell_type": "code",
   "execution_count": null,
   "id": "fc77696e-6f72-44aa-b0f7-6bf4947dddc2",
   "metadata": {},
   "outputs": [],
   "source": []
  },
  {
   "cell_type": "code",
   "execution_count": null,
   "id": "77cc71d4-aa37-42b7-a017-51ae42ff2c99",
   "metadata": {},
   "outputs": [],
   "source": []
  }
 ],
 "metadata": {
  "kernelspec": {
   "display_name": "Python 3 (ipykernel)",
   "language": "python",
   "name": "python3"
  },
  "language_info": {
   "codemirror_mode": {
    "name": "ipython",
    "version": 3
   },
   "file_extension": ".py",
   "mimetype": "text/x-python",
   "name": "python",
   "nbconvert_exporter": "python",
   "pygments_lexer": "ipython3",
   "version": "3.12.10"
  }
 },
 "nbformat": 4,
 "nbformat_minor": 5
}
