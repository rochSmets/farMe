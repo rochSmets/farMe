{
 "cells": [
  {
   "cell_type": "code",
   "execution_count": 1,
   "id": "b832aac1-76b3-428d-b8bc-ac45de9f1cbe",
   "metadata": {},
   "outputs": [],
   "source": [
    "# Not needed as it is the default mode in jupytherHub\n",
    "# %matplotlib inline"
   ]
  },
  {
   "cell_type": "code",
   "execution_count": 2,
   "id": "ec80f0fc-e9d5-4dec-9b50-fe3ae4373ebc",
   "metadata": {},
   "outputs": [],
   "source": [
    "# import logging\n",
    "# logger = logging.getLogger()\n",
    "# logger.setLevel(logging.CRITICAL)"
   ]
  },
  {
   "cell_type": "code",
   "execution_count": 3,
   "id": "55e84497-8f95-48da-a27c-4bb034acca58",
   "metadata": {},
   "outputs": [],
   "source": [
    "import logging\n",
    "logging.getLogger('h5py').setLevel(logging.INFO)\n",
    "logging.getLogger('matplotlib').setLevel(logging.INFO)"
   ]
  },
  {
   "cell_type": "code",
   "execution_count": 4,
   "id": "df15d782-77f0-40c7-a36f-86b5b34e7ae0",
   "metadata": {},
   "outputs": [],
   "source": [
    "import sys\n",
    "import logging\n",
    "\n",
    "for m in sys.modules:\n",
    "    logging.getLogger(m).setLevel(logging.INFO)"
   ]
  },
  {
   "cell_type": "code",
   "execution_count": 5,
   "id": "fc616b3f-27bf-452a-9359-a3db4c2c97ae",
   "metadata": {},
   "outputs": [],
   "source": [
    "import sys\n",
    "sys.path.append(\"/home/smets/far/PHARE/pyphare/\")\n",
    "import pyphare\n",
    "import matplotlib.pyplot as plt\n",
    "from pyphare.pharesee.run import Run\n",
    "import numpy as np"
   ]
  },
  {
   "cell_type": "code",
   "execution_count": 6,
   "id": "01fe4e9c-3020-4148-9ce7-851a61fea5bf",
   "metadata": {},
   "outputs": [],
   "source": [
    "path_to_run = \"/home/smets/far/farMe/ionBeam/yao/run/yao-01a/\""
   ]
  },
  {
   "cell_type": "code",
   "execution_count": 7,
   "id": "c74c34ca-6d20-4bbb-a46a-d9a96784a8b3",
   "metadata": {
    "editable": true,
    "slideshow": {
     "slide_type": ""
    },
    "tags": []
   },
   "outputs": [
    {
     "name": "stdout",
     "output_type": "stream",
     "text": [
      "EM_B.h5               ions_pop_beam_density.h5  ions_pop_main_domain.h5\n",
      "EM_E.h5               ions_pop_beam_domain.h5   ions_pop_main_flux.h5\n",
      "ions_bulkVelocity.h5  ions_pop_beam_flux.h5\n",
      "ions_density.h5       ions_pop_main_density.h5\n"
     ]
    }
   ],
   "source": [
    "ls $path_to_run"
   ]
  },
  {
   "cell_type": "code",
   "execution_count": 8,
   "id": "613003f6-0157-44e0-9b4b-c6dab817ba27",
   "metadata": {},
   "outputs": [],
   "source": [
    "run = Run(path_to_run)"
   ]
  },
  {
   "cell_type": "code",
   "execution_count": 9,
   "id": "1c6eeea3-1c95-4ec2-beaa-5b8bccb4f069",
   "metadata": {},
   "outputs": [
    {
     "name": "stdout",
     "output_type": "stream",
     "text": [
      "['/home/smets/far/farMe/ionBeam/yao/run/yao-01a/EM_B.h5', '/home/smets/far/farMe/ionBeam/yao/run/yao-01a/EM_E.h5', '/home/smets/far/farMe/ionBeam/yao/run/yao-01a/ions_bulkVelocity.h5', '/home/smets/far/farMe/ionBeam/yao/run/yao-01a/ions_density.h5', '/home/smets/far/farMe/ionBeam/yao/run/yao-01a/ions_pop_beam_density.h5', '/home/smets/far/farMe/ionBeam/yao/run/yao-01a/ions_pop_beam_domain.h5', '/home/smets/far/farMe/ionBeam/yao/run/yao-01a/ions_pop_beam_flux.h5', '/home/smets/far/farMe/ionBeam/yao/run/yao-01a/ions_pop_main_density.h5', '/home/smets/far/farMe/ionBeam/yao/run/yao-01a/ions_pop_main_domain.h5', '/home/smets/far/farMe/ionBeam/yao/run/yao-01a/ions_pop_main_flux.h5']\n"
     ]
    }
   ],
   "source": [
    "print(run.available_diags)"
   ]
  },
  {
   "cell_type": "code",
   "execution_count": 10,
   "id": "10314331-6820-45f3-985f-4f2ec81ba20e",
   "metadata": {},
   "outputs": [
    {
     "data": {
      "text/plain": [
       "['0.0000000000',\n",
       " '0.1000000000',\n",
       " '0.2000000000',\n",
       " '0.3000000000',\n",
       " '0.4000000000',\n",
       " '0.5000000000',\n",
       " '0.6000000000',\n",
       " '0.7000000000',\n",
       " '0.8000000000',\n",
       " '0.9000000000',\n",
       " '1.0000000000',\n",
       " '1.1000000000',\n",
       " '1.2000000000',\n",
       " '1.3000000000',\n",
       " '1.4000000000',\n",
       " '1.5000000000',\n",
       " '1.6000000000',\n",
       " '1.7000000000',\n",
       " '1.8000000000',\n",
       " '1.9000000000',\n",
       " '10.0000000000',\n",
       " '2.0000000000',\n",
       " '2.1000000000',\n",
       " '2.2000000000',\n",
       " '2.3000000000',\n",
       " '2.4000000000',\n",
       " '2.5000000000',\n",
       " '2.6000000000',\n",
       " '2.7000000000',\n",
       " '2.8000000000',\n",
       " '2.9000000000',\n",
       " '3.0000000000',\n",
       " '3.1000000000',\n",
       " '3.2000000000',\n",
       " '3.3000000000',\n",
       " '3.4000000000',\n",
       " '3.5000000000',\n",
       " '3.6000000000',\n",
       " '3.7000000000',\n",
       " '3.8000000000',\n",
       " '3.9000000000',\n",
       " '4.0000000000',\n",
       " '4.1000000000',\n",
       " '4.2000000000',\n",
       " '4.3000000000',\n",
       " '4.4000000000',\n",
       " '4.5000000000',\n",
       " '4.6000000000',\n",
       " '4.7000000000',\n",
       " '4.8000000000',\n",
       " '4.9000000000',\n",
       " '5.0000000000',\n",
       " '5.1000000000',\n",
       " '5.2000000000',\n",
       " '5.3000000000',\n",
       " '5.4000000000',\n",
       " '5.5000000000',\n",
       " '5.6000000000',\n",
       " '5.7000000000',\n",
       " '5.8000000000',\n",
       " '5.9000000000',\n",
       " '6.0000000000',\n",
       " '6.1000000000',\n",
       " '6.2000000000',\n",
       " '6.3000000000',\n",
       " '6.4000000000',\n",
       " '6.5000000000',\n",
       " '6.6000000000',\n",
       " '6.7000000000',\n",
       " '6.8000000000',\n",
       " '6.9000000000',\n",
       " '7.0000000000',\n",
       " '7.1000000000',\n",
       " '7.2000000000',\n",
       " '7.3000000000',\n",
       " '7.4000000000',\n",
       " '7.5000000000',\n",
       " '7.6000000000',\n",
       " '7.7000000000',\n",
       " '7.8000000000',\n",
       " '7.9000000000',\n",
       " '8.0000000000',\n",
       " '8.1000000000',\n",
       " '8.2000000000',\n",
       " '8.3000000000',\n",
       " '8.4000000000',\n",
       " '8.5000000000',\n",
       " '8.6000000000',\n",
       " '8.7000000000',\n",
       " '8.8000000000',\n",
       " '8.9000000000',\n",
       " '9.0000000000',\n",
       " '9.1000000000',\n",
       " '9.2000000000',\n",
       " '9.3000000000',\n",
       " '9.4000000000',\n",
       " '9.5000000000',\n",
       " '9.6000000000',\n",
       " '9.7000000000',\n",
       " '9.8000000000',\n",
       " '9.9000000000']"
      ]
     },
     "execution_count": 10,
     "metadata": {},
     "output_type": "execute_result"
    }
   ],
   "source": [
    "import h5py\n",
    "import os\n",
    "f = h5py.File(os.path.join(path_to_run, 'ions_density.h5'), 'r')\n",
    "list(f['t'])  # to get all the times of the h5 file"
   ]
  },
  {
   "cell_type": "code",
   "execution_count": 11,
   "id": "3c74092e-aa1c-40f0-bdb1-eb707e621082",
   "metadata": {},
   "outputs": [
    {
     "name": "stdout",
     "output_type": "stream",
     "text": [
      "['GetB', 'GetDivB', 'GetDl', 'GetDomainSize', 'GetE', 'GetFlux', 'GetJ', 'GetMass', 'GetMassDensity', 'GetN', 'GetNi', 'GetParticleCount', 'GetParticles', 'GetPe', 'GetPi', 'GetPressure', 'GetRanks', 'GetTags', 'GetVi', '__class__', '__delattr__', '__dict__', '__dir__', '__doc__', '__eq__', '__format__', '__ge__', '__getattribute__', '__getstate__', '__gt__', '__hash__', '__init__', '__init_subclass__', '__le__', '__lt__', '__module__', '__ne__', '__new__', '__reduce__', '__reduce_ex__', '__repr__', '__setattr__', '__sizeof__', '__str__', '__subclasshook__', '__weakref__', '_get', '_get_hierarchy', 'all_times', 'available_diags', 'default_time_', 'path', 'times']\n"
     ]
    }
   ],
   "source": [
    "print(dir(run))"
   ]
  },
  {
   "cell_type": "code",
   "execution_count": 12,
   "id": "05885982-6a27-4560-8cd9-4e8d2996962b",
   "metadata": {
    "editable": true,
    "slideshow": {
     "slide_type": ""
    },
    "tags": []
   },
   "outputs": [],
   "source": [
    "time = 10."
   ]
  },
  {
   "cell_type": "code",
   "execution_count": 13,
   "id": "15598961-3799-4f2f-b542-0a5f69a5a99b",
   "metadata": {},
   "outputs": [
    {
     "ename": "FileNotFoundError",
     "evalue": "[Errno 2] Unable to open file (unable to open file: name = '/home/smets/far/farMe/ionBeam/yao/run/yao-01a/ions_charge_density.h5', errno = 2, error message = 'No such file or directory', flags = 0, o_flags = 0)",
     "output_type": "error",
     "traceback": [
      "\u001b[0;31m---------------------------------------------------------------------------\u001b[0m",
      "\u001b[0;31mFileNotFoundError\u001b[0m                         Traceback (most recent call last)",
      "Cell \u001b[0;32mIn[13], line 1\u001b[0m\n\u001b[0;32m----> 1\u001b[0m Ni \u001b[38;5;241m=\u001b[39m \u001b[43mrun\u001b[49m\u001b[38;5;241;43m.\u001b[39;49m\u001b[43mGetNi\u001b[49m\u001b[43m(\u001b[49m\u001b[43mtime\u001b[49m\u001b[43m)\u001b[49m\n",
      "File \u001b[0;32m~/far/PHARE/pyphare/pyphare/pharesee/run/run.py:117\u001b[0m, in \u001b[0;36mRun.GetNi\u001b[0;34m(self, time, merged, interp, **kwargs)\u001b[0m\n\u001b[1;32m    116\u001b[0m \u001b[38;5;28;01mdef\u001b[39;00m \u001b[38;5;21mGetNi\u001b[39m(\u001b[38;5;28mself\u001b[39m, time, merged\u001b[38;5;241m=\u001b[39m\u001b[38;5;28;01mFalse\u001b[39;00m, interp\u001b[38;5;241m=\u001b[39m\u001b[38;5;124m\"\u001b[39m\u001b[38;5;124mnearest\u001b[39m\u001b[38;5;124m\"\u001b[39m, \u001b[38;5;241m*\u001b[39m\u001b[38;5;241m*\u001b[39mkwargs):\n\u001b[0;32m--> 117\u001b[0m     hier \u001b[38;5;241m=\u001b[39m \u001b[38;5;28;43mself\u001b[39;49m\u001b[38;5;241;43m.\u001b[39;49m\u001b[43m_get_hierarchy\u001b[49m\u001b[43m(\u001b[49m\u001b[43mtime\u001b[49m\u001b[43m,\u001b[49m\u001b[43m \u001b[49m\u001b[38;5;124;43m\"\u001b[39;49m\u001b[38;5;124;43mions_charge_density.h5\u001b[39;49m\u001b[38;5;124;43m\"\u001b[39;49m\u001b[43m,\u001b[49m\u001b[43m \u001b[49m\u001b[38;5;241;43m*\u001b[39;49m\u001b[38;5;241;43m*\u001b[39;49m\u001b[43mkwargs\u001b[49m\u001b[43m)\u001b[49m\n\u001b[1;32m    118\u001b[0m     \u001b[38;5;28;01mreturn\u001b[39;00m ScalarField(\u001b[38;5;28mself\u001b[39m\u001b[38;5;241m.\u001b[39m_get(hier, time, merged, interp))\n",
      "File \u001b[0;32m~/far/PHARE/pyphare/pyphare/pharesee/run/run.py:60\u001b[0m, in \u001b[0;36mRun._get_hierarchy\u001b[0;34m(self, times, filename, hier, **kwargs)\u001b[0m\n\u001b[1;32m     52\u001b[0m \u001b[38;5;28;01mdef\u001b[39;00m \u001b[38;5;21m_get_hier\u001b[39m(h):\n\u001b[1;32m     53\u001b[0m     \u001b[38;5;28;01mreturn\u001b[39;00m hierarchy_from(\n\u001b[1;32m     54\u001b[0m         h5_filename\u001b[38;5;241m=\u001b[39mos\u001b[38;5;241m.\u001b[39mpath\u001b[38;5;241m.\u001b[39mjoin(\u001b[38;5;28mself\u001b[39m\u001b[38;5;241m.\u001b[39mpath, filename),\n\u001b[1;32m     55\u001b[0m         times\u001b[38;5;241m=\u001b[39mtimes,\n\u001b[1;32m     56\u001b[0m         hier\u001b[38;5;241m=\u001b[39mh,\n\u001b[1;32m     57\u001b[0m         \u001b[38;5;241m*\u001b[39m\u001b[38;5;241m*\u001b[39mkwargs,\n\u001b[1;32m     58\u001b[0m     )\n\u001b[0;32m---> 60\u001b[0m \u001b[38;5;28;01mreturn\u001b[39;00m \u001b[43m_get_hier\u001b[49m\u001b[43m(\u001b[49m\u001b[43mhier\u001b[49m\u001b[43m)\u001b[49m\n",
      "File \u001b[0;32m~/far/PHARE/pyphare/pyphare/pharesee/run/run.py:53\u001b[0m, in \u001b[0;36mRun._get_hierarchy.<locals>._get_hier\u001b[0;34m(h)\u001b[0m\n\u001b[1;32m     52\u001b[0m \u001b[38;5;28;01mdef\u001b[39;00m \u001b[38;5;21m_get_hier\u001b[39m(h):\n\u001b[0;32m---> 53\u001b[0m     \u001b[38;5;28;01mreturn\u001b[39;00m \u001b[43mhierarchy_from\u001b[49m\u001b[43m(\u001b[49m\n\u001b[1;32m     54\u001b[0m \u001b[43m        \u001b[49m\u001b[43mh5_filename\u001b[49m\u001b[38;5;241;43m=\u001b[39;49m\u001b[43mos\u001b[49m\u001b[38;5;241;43m.\u001b[39;49m\u001b[43mpath\u001b[49m\u001b[38;5;241;43m.\u001b[39;49m\u001b[43mjoin\u001b[49m\u001b[43m(\u001b[49m\u001b[38;5;28;43mself\u001b[39;49m\u001b[38;5;241;43m.\u001b[39;49m\u001b[43mpath\u001b[49m\u001b[43m,\u001b[49m\u001b[43m \u001b[49m\u001b[43mfilename\u001b[49m\u001b[43m)\u001b[49m\u001b[43m,\u001b[49m\n\u001b[1;32m     55\u001b[0m \u001b[43m        \u001b[49m\u001b[43mtimes\u001b[49m\u001b[38;5;241;43m=\u001b[39;49m\u001b[43mtimes\u001b[49m\u001b[43m,\u001b[49m\n\u001b[1;32m     56\u001b[0m \u001b[43m        \u001b[49m\u001b[43mhier\u001b[49m\u001b[38;5;241;43m=\u001b[39;49m\u001b[43mh\u001b[49m\u001b[43m,\u001b[49m\n\u001b[1;32m     57\u001b[0m \u001b[43m        \u001b[49m\u001b[38;5;241;43m*\u001b[39;49m\u001b[38;5;241;43m*\u001b[39;49m\u001b[43mkwargs\u001b[49m\u001b[43m,\u001b[49m\n\u001b[1;32m     58\u001b[0m \u001b[43m    \u001b[49m\u001b[43m)\u001b[49m\n",
      "File \u001b[0;32m~/far/PHARE/pyphare/pyphare/pharesee/hierarchy/__init__.py:38\u001b[0m, in \u001b[0;36mhierarchy_from\u001b[0;34m(simulator, qty, pop, h5_filename, times, hier, func, **kwargs)\u001b[0m\n\u001b[1;32m     35\u001b[0m     \u001b[38;5;28;01mraise\u001b[39;00m \u001b[38;5;167;01mValueError\u001b[39;00m(\u001b[38;5;124m\"\u001b[39m\u001b[38;5;124mcannot pass both a simulator and a h5 file\u001b[39m\u001b[38;5;124m\"\u001b[39m)\n\u001b[1;32m     37\u001b[0m \u001b[38;5;28;01mif\u001b[39;00m h5_filename \u001b[38;5;129;01mis\u001b[39;00m \u001b[38;5;129;01mnot\u001b[39;00m \u001b[38;5;28;01mNone\u001b[39;00m:\n\u001b[0;32m---> 38\u001b[0m     \u001b[38;5;28;01mreturn\u001b[39;00m \u001b[43mhierarchy_fromh5\u001b[49m\u001b[43m(\u001b[49m\u001b[43mh5_filename\u001b[49m\u001b[43m,\u001b[49m\u001b[43m \u001b[49m\u001b[43mtimes\u001b[49m\u001b[43m,\u001b[49m\u001b[43m \u001b[49m\u001b[43mhier\u001b[49m\u001b[43m,\u001b[49m\u001b[43m \u001b[49m\u001b[38;5;241;43m*\u001b[39;49m\u001b[38;5;241;43m*\u001b[39;49m\u001b[43mkwargs\u001b[49m\u001b[43m)\u001b[49m\n\u001b[1;32m     40\u001b[0m \u001b[38;5;28;01mif\u001b[39;00m simulator \u001b[38;5;129;01mis\u001b[39;00m \u001b[38;5;129;01mnot\u001b[39;00m \u001b[38;5;28;01mNone\u001b[39;00m \u001b[38;5;129;01mand\u001b[39;00m qty \u001b[38;5;129;01mis\u001b[39;00m \u001b[38;5;129;01mnot\u001b[39;00m \u001b[38;5;28;01mNone\u001b[39;00m:\n\u001b[1;32m     41\u001b[0m     \u001b[38;5;28;01mreturn\u001b[39;00m hierarchy_from_sim(simulator, qty, pop\u001b[38;5;241m=\u001b[39mpop)\n",
      "File \u001b[0;32m~/far/PHARE/pyphare/pyphare/pharesee/hierarchy/fromh5.py:302\u001b[0m, in \u001b[0;36mhierarchy_fromh5\u001b[0;34m(h5_filename, time, hier, silent, **kwargs)\u001b[0m\n\u001b[1;32m    300\u001b[0m \u001b[38;5;28;01mif\u001b[39;00m create_from_times(time, hier):\n\u001b[1;32m    301\u001b[0m     time \u001b[38;5;241m=\u001b[39m listify(time)\n\u001b[0;32m--> 302\u001b[0m     \u001b[38;5;28;01mreturn\u001b[39;00m \u001b[43mnew_from_h5\u001b[49m\u001b[43m(\u001b[49m\u001b[43mh5_filename\u001b[49m\u001b[43m,\u001b[49m\u001b[43m \u001b[49m\u001b[43mtime\u001b[49m\u001b[43m,\u001b[49m\u001b[43m \u001b[49m\u001b[38;5;241;43m*\u001b[39;49m\u001b[38;5;241;43m*\u001b[39;49m\u001b[43mkwargs\u001b[49m\u001b[43m)\u001b[49m\n\u001b[1;32m    304\u001b[0m \u001b[38;5;28;01mif\u001b[39;00m create_from_all_times(time, hier):\n\u001b[1;32m    305\u001b[0m     times \u001b[38;5;241m=\u001b[39m get_times_from_h5(h5_filename)\n",
      "File \u001b[0;32m~/far/PHARE/pyphare/pyphare/pharesee/hierarchy/fromh5.py:269\u001b[0m, in \u001b[0;36mnew_from_h5\u001b[0;34m(filepath, times, **kwargs)\u001b[0m\n\u001b[1;32m    265\u001b[0m     selection_box \u001b[38;5;241m=\u001b[39m [selection_box] \u001b[38;5;241m*\u001b[39m \u001b[38;5;28mlen\u001b[39m(times)\n\u001b[1;32m    267\u001b[0m patch_levels_per_time \u001b[38;5;241m=\u001b[39m []\n\u001b[0;32m--> 269\u001b[0m h5f \u001b[38;5;241m=\u001b[39m \u001b[43mh5py\u001b[49m\u001b[38;5;241;43m.\u001b[39;49m\u001b[43mFile\u001b[49m\u001b[43m(\u001b[49m\u001b[43mfilepath\u001b[49m\u001b[43m,\u001b[49m\u001b[43m \u001b[49m\u001b[38;5;124;43m\"\u001b[39;49m\u001b[38;5;124;43mr\u001b[39;49m\u001b[38;5;124;43m\"\u001b[39;49m\u001b[43m)\u001b[49m\n\u001b[1;32m    270\u001b[0m \u001b[38;5;28;01mfor\u001b[39;00m it, time \u001b[38;5;129;01min\u001b[39;00m \u001b[38;5;28menumerate\u001b[39m(times):\n\u001b[1;32m    271\u001b[0m     \u001b[38;5;28;01mif\u001b[39;00m \u001b[38;5;28misinstance\u001b[39m(time, \u001b[38;5;28mfloat\u001b[39m):\n",
      "File \u001b[0;32m/usr/lib64/python3.12/site-packages/h5py/_hl/files.py:562\u001b[0m, in \u001b[0;36mFile.__init__\u001b[0;34m(self, name, mode, driver, libver, userblock_size, swmr, rdcc_nslots, rdcc_nbytes, rdcc_w0, track_order, fs_strategy, fs_persist, fs_threshold, fs_page_size, page_buf_size, min_meta_keep, min_raw_keep, locking, alignment_threshold, alignment_interval, meta_block_size, **kwds)\u001b[0m\n\u001b[1;32m    553\u001b[0m     fapl \u001b[38;5;241m=\u001b[39m make_fapl(driver, libver, rdcc_nslots, rdcc_nbytes, rdcc_w0,\n\u001b[1;32m    554\u001b[0m                      locking, page_buf_size, min_meta_keep, min_raw_keep,\n\u001b[1;32m    555\u001b[0m                      alignment_threshold\u001b[38;5;241m=\u001b[39malignment_threshold,\n\u001b[1;32m    556\u001b[0m                      alignment_interval\u001b[38;5;241m=\u001b[39malignment_interval,\n\u001b[1;32m    557\u001b[0m                      meta_block_size\u001b[38;5;241m=\u001b[39mmeta_block_size,\n\u001b[1;32m    558\u001b[0m                      \u001b[38;5;241m*\u001b[39m\u001b[38;5;241m*\u001b[39mkwds)\n\u001b[1;32m    559\u001b[0m     fcpl \u001b[38;5;241m=\u001b[39m make_fcpl(track_order\u001b[38;5;241m=\u001b[39mtrack_order, fs_strategy\u001b[38;5;241m=\u001b[39mfs_strategy,\n\u001b[1;32m    560\u001b[0m                      fs_persist\u001b[38;5;241m=\u001b[39mfs_persist, fs_threshold\u001b[38;5;241m=\u001b[39mfs_threshold,\n\u001b[1;32m    561\u001b[0m                      fs_page_size\u001b[38;5;241m=\u001b[39mfs_page_size)\n\u001b[0;32m--> 562\u001b[0m     fid \u001b[38;5;241m=\u001b[39m \u001b[43mmake_fid\u001b[49m\u001b[43m(\u001b[49m\u001b[43mname\u001b[49m\u001b[43m,\u001b[49m\u001b[43m \u001b[49m\u001b[43mmode\u001b[49m\u001b[43m,\u001b[49m\u001b[43m \u001b[49m\u001b[43muserblock_size\u001b[49m\u001b[43m,\u001b[49m\u001b[43m \u001b[49m\u001b[43mfapl\u001b[49m\u001b[43m,\u001b[49m\u001b[43m \u001b[49m\u001b[43mfcpl\u001b[49m\u001b[43m,\u001b[49m\u001b[43m \u001b[49m\u001b[43mswmr\u001b[49m\u001b[38;5;241;43m=\u001b[39;49m\u001b[43mswmr\u001b[49m\u001b[43m)\u001b[49m\n\u001b[1;32m    564\u001b[0m \u001b[38;5;28;01mif\u001b[39;00m \u001b[38;5;28misinstance\u001b[39m(libver, \u001b[38;5;28mtuple\u001b[39m):\n\u001b[1;32m    565\u001b[0m     \u001b[38;5;28mself\u001b[39m\u001b[38;5;241m.\u001b[39m_libver \u001b[38;5;241m=\u001b[39m libver\n",
      "File \u001b[0;32m/usr/lib64/python3.12/site-packages/h5py/_hl/files.py:235\u001b[0m, in \u001b[0;36mmake_fid\u001b[0;34m(name, mode, userblock_size, fapl, fcpl, swmr)\u001b[0m\n\u001b[1;32m    233\u001b[0m     \u001b[38;5;28;01mif\u001b[39;00m swmr \u001b[38;5;129;01mand\u001b[39;00m swmr_support:\n\u001b[1;32m    234\u001b[0m         flags \u001b[38;5;241m|\u001b[39m\u001b[38;5;241m=\u001b[39m h5f\u001b[38;5;241m.\u001b[39mACC_SWMR_READ\n\u001b[0;32m--> 235\u001b[0m     fid \u001b[38;5;241m=\u001b[39m \u001b[43mh5f\u001b[49m\u001b[38;5;241;43m.\u001b[39;49m\u001b[43mopen\u001b[49m\u001b[43m(\u001b[49m\u001b[43mname\u001b[49m\u001b[43m,\u001b[49m\u001b[43m \u001b[49m\u001b[43mflags\u001b[49m\u001b[43m,\u001b[49m\u001b[43m \u001b[49m\u001b[43mfapl\u001b[49m\u001b[38;5;241;43m=\u001b[39;49m\u001b[43mfapl\u001b[49m\u001b[43m)\u001b[49m\n\u001b[1;32m    236\u001b[0m \u001b[38;5;28;01melif\u001b[39;00m mode \u001b[38;5;241m==\u001b[39m \u001b[38;5;124m'\u001b[39m\u001b[38;5;124mr+\u001b[39m\u001b[38;5;124m'\u001b[39m:\n\u001b[1;32m    237\u001b[0m     fid \u001b[38;5;241m=\u001b[39m h5f\u001b[38;5;241m.\u001b[39mopen(name, h5f\u001b[38;5;241m.\u001b[39mACC_RDWR, fapl\u001b[38;5;241m=\u001b[39mfapl)\n",
      "File \u001b[0;32mh5py/_objects.pyx:54\u001b[0m, in \u001b[0;36mh5py._objects.with_phil.wrapper\u001b[0;34m()\u001b[0m\n",
      "File \u001b[0;32mh5py/_objects.pyx:55\u001b[0m, in \u001b[0;36mh5py._objects.with_phil.wrapper\u001b[0;34m()\u001b[0m\n",
      "File \u001b[0;32mh5py/h5f.pyx:102\u001b[0m, in \u001b[0;36mh5py.h5f.open\u001b[0;34m()\u001b[0m\n",
      "\u001b[0;31mFileNotFoundError\u001b[0m: [Errno 2] Unable to open file (unable to open file: name = '/home/smets/far/farMe/ionBeam/yao/run/yao-01a/ions_charge_density.h5', errno = 2, error message = 'No such file or directory', flags = 0, o_flags = 0)"
     ]
    }
   ],
   "source": [
    "Ni = run.GetNi(time)"
   ]
  },
  {
   "cell_type": "code",
   "execution_count": null,
   "id": "4851fab7-4726-4b38-bbd6-6e7887740e2e",
   "metadata": {},
   "outputs": [],
   "source": [
    "for ilvl, lvl in Ni.levels(time).items():\n",
    "    for patch in lvl.patches:\n",
    "        print(patch.patch_datas.keys())\n",
    "        break"
   ]
  },
  {
   "cell_type": "code",
   "execution_count": null,
   "id": "00c1a49e-727a-4114-89b4-98ef272947e5",
   "metadata": {},
   "outputs": [],
   "source": [
    "fig, ax = plt.subplots()\n",
    "\n",
    "Ni.plot(qty=\"value\",\n",
    "        cmap=\"viridis_r\",\n",
    "        vmin=0.95,\n",
    "        vmax=1.05,\n",
    "        plot_patches=True,\n",
    "        lw=[0.8],\n",
    "        ax=ax,\n",
    "       )"
   ]
  },
  {
   "cell_type": "code",
   "execution_count": null,
   "id": "a7782c59-a05a-4595-bfd9-374d236981c5",
   "metadata": {},
   "outputs": [],
   "source": [
    "E = run.GetE(time)"
   ]
  },
  {
   "cell_type": "code",
   "execution_count": null,
   "id": "76f289d9-fcd7-4ca9-8bca-4793b7558a9e",
   "metadata": {},
   "outputs": [],
   "source": [
    "E.plot(qty=\"x\",\n",
    "        cmap=\"viridis_r\",\n",
    "        vmin=-0.2,\n",
    "        vmax=+0.2,\n",
    "       )"
   ]
  },
  {
   "cell_type": "code",
   "execution_count": null,
   "id": "d3167342-2957-48b1-9b5c-66adfa0b1028",
   "metadata": {},
   "outputs": [],
   "source": [
    "file = \"ions_pop_beam_domain.h5\""
   ]
  },
  {
   "cell_type": "code",
   "execution_count": null,
   "id": "6fc9f39a-d693-408f-9a14-ca89090cf988",
   "metadata": {},
   "outputs": [],
   "source": [
    "# ions = run.GetParticles(time, [\"beam\", \"main\"])\n",
    "ions = run.GetParticles(time, [\"main\"])"
   ]
  },
  {
   "cell_type": "code",
   "execution_count": null,
   "id": "e4941fa6-b29c-454d-b0de-407df34cccfe",
   "metadata": {},
   "outputs": [],
   "source": [
    "f = h5py.File(os.path.join(path_to_run, 'ions_pop_beam_domain.h5'), 'r')\n",
    "f['t']['0.0000000000']['pl0']['p0#0'].keys()"
   ]
  },
  {
   "cell_type": "code",
   "execution_count": null,
   "id": "3cda1e0f-07ab-4cff-b189-a6653fca0530",
   "metadata": {},
   "outputs": [],
   "source": [
    "for m in f['t']['0.0000000000']['pl0']:\n",
    "    print(f['t']['0.0000000000']['pl0'][m])\n",
    "    print(f['t']['0.0000000000']['pl0'][m].keys())"
   ]
  },
  {
   "cell_type": "code",
   "execution_count": null,
   "id": "0180052c-7959-4e6d-aa87-12fa069d5c6f",
   "metadata": {},
   "outputs": [],
   "source": [
    "dir(ions)\n",
    "ions.quantities()"
   ]
  },
  {
   "cell_type": "code",
   "execution_count": null,
   "id": "bf69eee3-9a68-48fa-9afd-b8e7333bb949",
   "metadata": {},
   "outputs": [],
   "source": [
    "for ilvl, lvl in ions.levels(time).items():\n",
    "    for patch in lvl.patches:\n",
    "        print(patch.patch_datas.keys())\n",
    "        break"
   ]
  },
  {
   "cell_type": "code",
   "execution_count": null,
   "id": "53202d24-339f-4e6f-bac5-685546119307",
   "metadata": {},
   "outputs": [],
   "source": [
    "fig, ax = plt.subplots()\n",
    "\n",
    "vmin, vmax = -3.0,+8.0\n",
    "\n",
    "ions.dist_plot(axis=(\"x\", \"Vx\"),\n",
    "    ax = ax,\n",
    "    norm = 0.4,\n",
    "    finest=True,\n",
    "    gaussian_filter_sigma = (1,1) ,\n",
    "    vmin=vmin,vmax=vmax,\n",
    "    dv=0.05,\n",
    "    title=\"time = {:.1f}\".format(time),\n",
    "    xlabel = \"\",\n",
    "    ylabel = \"\"\n",
    "    )"
   ]
  },
  {
   "cell_type": "markdown",
   "id": "db207222-23b2-4ce9-a930-f4b7d3bacede",
   "metadata": {},
   "source": [
    "Each `PatchLevel` itself has a collection of patches obtainable as a simple list. Here we print the patch ID for each patch of each level.\\\n",
    "The patch ID is just MPI_Rank#localPatchID"
   ]
  },
  {
   "cell_type": "code",
   "execution_count": null,
   "id": "aa1abbf4-84cf-4fb5-a8d2-f55b57ffd894",
   "metadata": {},
   "outputs": [],
   "source": [
    "for ilvl, lvl in E.levels(time).items():\n",
    "    for patch in lvl.patches:\n",
    "        print(patch.id)\n",
    "        # break  # break not to have a huge list printed"
   ]
  },
  {
   "cell_type": "markdown",
   "id": "40b8a3eb-f717-4a52-a99c-f399f31b83aa",
   "metadata": {},
   "source": [
    "Let's practice a bit and for instance count how many patches there are in each level:"
   ]
  },
  {
   "cell_type": "code",
   "execution_count": null,
   "id": "b1a0a7c3-24cd-41e9-96c3-1c5ea714eb9f",
   "metadata": {},
   "outputs": [],
   "source": [
    "count = {}\n",
    "for ilvl, lvl in E.levels(time).items():\n",
    "    count[ilvl] = len(lvl.patches)\n",
    "print(count)"
   ]
  },
  {
   "cell_type": "markdown",
   "id": "3efbdc86-47b2-4024-b093-defb7cde9a83",
   "metadata": {},
   "source": [
    "and now a more complex example, let's make a histogram of the number of cells per level\\\n",
    "Here we use the fact that a `Patch` is an object that has a `Box` representing its domain, for which the number of cells can be obtained with the method `nCells()`"
   ]
  },
  {
   "cell_type": "code",
   "execution_count": null,
   "id": "61e0193b-5974-4af3-97ef-c6c62b12103e",
   "metadata": {},
   "outputs": [],
   "source": [
    "cells = {ilvl:[] for ilvl in E.levels(time).keys()}\n",
    "for ilvl, lvl in E.levels(time).items():\n",
    "    for patch in lvl.patches:\n",
    "        cells[ilvl] += [ patch.box.nCells() ]\n",
    "print(cells)\n",
    "\n",
    "fig, ax = plt.subplots()\n",
    "\n",
    "ax.hist(cells[ilvl], bins=10)\n",
    "ax.set_title(f\"Level {ilvl}\")\n",
    "#ax.set_xscale(\"log\")\n",
    "ax.set_yscale(\"log\")\n",
    "fig.tight_layout()"
   ]
  }
 ],
 "metadata": {
  "kernelspec": {
   "display_name": "Python 3 (ipykernel)",
   "language": "python",
   "name": "python3"
  },
  "language_info": {
   "codemirror_mode": {
    "name": "ipython",
    "version": 3
   },
   "file_extension": ".py",
   "mimetype": "text/x-python",
   "name": "python",
   "nbconvert_exporter": "python",
   "pygments_lexer": "ipython3",
   "version": "3.12.10"
  }
 },
 "nbformat": 4,
 "nbformat_minor": 5
}
