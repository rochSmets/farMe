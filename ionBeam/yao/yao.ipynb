{
 "cells": [
  {
   "cell_type": "code",
   "execution_count": null,
   "id": "b832aac1-76b3-428d-b8bc-ac45de9f1cbe",
   "metadata": {},
   "outputs": [],
   "source": [
    "# Not needed as it is the default mode in jupytherHub\n",
    "# %matplotlib inline"
   ]
  },
  {
   "cell_type": "code",
   "execution_count": null,
   "id": "ec80f0fc-e9d5-4dec-9b50-fe3ae4373ebc",
   "metadata": {},
   "outputs": [],
   "source": [
    "# import logging\n",
    "# logger = logging.getLogger()\n",
    "# logger.setLevel(logging.CRITICAL)"
   ]
  },
  {
   "cell_type": "code",
   "execution_count": null,
   "id": "55e84497-8f95-48da-a27c-4bb034acca58",
   "metadata": {},
   "outputs": [],
   "source": [
    "import logging\n",
    "logging.getLogger('h5py').setLevel(logging.INFO)\n",
    "logging.getLogger('matplotlib').setLevel(logging.INFO)"
   ]
  },
  {
   "cell_type": "code",
   "execution_count": null,
   "id": "df15d782-77f0-40c7-a36f-86b5b34e7ae0",
   "metadata": {},
   "outputs": [],
   "source": [
    "import sys\n",
    "import logging\n",
    "\n",
    "for m in sys.modules:\n",
    "    logging.getLogger(m).setLevel(logging.INFO)"
   ]
  },
  {
   "cell_type": "code",
   "execution_count": 3,
   "id": "fc616b3f-27bf-452a-9359-a3db4c2c97ae",
   "metadata": {
    "execution": {
     "iopub.execute_input": "2025-07-02T12:21:30.918554Z",
     "iopub.status.busy": "2025-07-02T12:21:30.918168Z",
     "iopub.status.idle": "2025-07-02T12:21:30.921948Z",
     "shell.execute_reply": "2025-07-02T12:21:30.921452Z",
     "shell.execute_reply.started": "2025-07-02T12:21:30.918536Z"
    }
   },
   "outputs": [],
   "source": [
    "import sys\n",
    "sys.path.append(\"/home/smets/codes/far/PHARE/pyphare/\")\n",
    "import pyphare\n",
    "import matplotlib.pyplot as plt\n",
    "from pyphare.pharesee.run import Run\n",
    "import numpy as np"
   ]
  },
  {
   "cell_type": "code",
   "execution_count": 4,
   "id": "01fe4e9c-3020-4148-9ce7-851a61fea5bf",
   "metadata": {
    "execution": {
     "iopub.execute_input": "2025-07-02T12:21:31.755920Z",
     "iopub.status.busy": "2025-07-02T12:21:31.755515Z",
     "iopub.status.idle": "2025-07-02T12:21:31.758133Z",
     "shell.execute_reply": "2025-07-02T12:21:31.757679Z",
     "shell.execute_reply.started": "2025-07-02T12:21:31.755905Z"
    }
   },
   "outputs": [],
   "source": [
    "path_to_run = \"/home/smets/far/farMe/ionBeam/yao/run/yao-01a/\""
   ]
  },
  {
   "cell_type": "code",
   "execution_count": 5,
   "id": "c74c34ca-6d20-4bbb-a46a-d9a96784a8b3",
   "metadata": {
    "editable": true,
    "execution": {
     "iopub.execute_input": "2025-07-02T12:21:32.200380Z",
     "iopub.status.busy": "2025-07-02T12:21:32.200243Z",
     "iopub.status.idle": "2025-07-02T12:21:32.335032Z",
     "shell.execute_reply": "2025-07-02T12:21:32.334266Z",
     "shell.execute_reply.started": "2025-07-02T12:21:32.200368Z"
    },
    "slideshow": {
     "slide_type": ""
    },
    "tags": []
   },
   "outputs": [
    {
     "name": "stdout",
     "output_type": "stream",
     "text": [
      "EM_B.h5               ions_pop_beam_density.h5  ions_pop_main_domain.h5\n",
      "EM_E.h5               ions_pop_beam_domain.h5   ions_pop_main_flux.h5\n",
      "ions_bulkVelocity.h5  ions_pop_beam_flux.h5\n",
      "ions_density.h5       ions_pop_main_density.h5\n"
     ]
    }
   ],
   "source": [
    "ls $path_to_run"
   ]
  },
  {
   "cell_type": "code",
   "execution_count": 6,
   "id": "613003f6-0157-44e0-9b4b-c6dab817ba27",
   "metadata": {
    "execution": {
     "iopub.execute_input": "2025-07-02T12:21:33.221232Z",
     "iopub.status.busy": "2025-07-02T12:21:33.220883Z",
     "iopub.status.idle": "2025-07-02T12:21:33.224887Z",
     "shell.execute_reply": "2025-07-02T12:21:33.224412Z",
     "shell.execute_reply.started": "2025-07-02T12:21:33.221210Z"
    }
   },
   "outputs": [],
   "source": [
    "run = Run(path_to_run)"
   ]
  },
  {
   "cell_type": "code",
   "execution_count": 27,
   "id": "3c74092e-aa1c-40f0-bdb1-eb707e621082",
   "metadata": {
    "execution": {
     "iopub.execute_input": "2025-07-02T12:30:05.803849Z",
     "iopub.status.busy": "2025-07-02T12:30:05.803471Z",
     "iopub.status.idle": "2025-07-02T12:30:05.823313Z",
     "shell.execute_reply": "2025-07-02T12:30:05.822644Z",
     "shell.execute_reply.started": "2025-07-02T12:30:05.803831Z"
    }
   },
   "outputs": [
    {
     "name": "stdout",
     "output_type": "stream",
     "text": [
      "['/home/smets/far/farMe/ionBeam/yao/run/yao-01a/EM_B.h5', '/home/smets/far/farMe/ionBeam/yao/run/yao-01a/EM_E.h5', '/home/smets/far/farMe/ionBeam/yao/run/yao-01a/ions_bulkVelocity.h5', '/home/smets/far/farMe/ionBeam/yao/run/yao-01a/ions_density.h5', '/home/smets/far/farMe/ionBeam/yao/run/yao-01a/ions_pop_beam_density.h5', '/home/smets/far/farMe/ionBeam/yao/run/yao-01a/ions_pop_beam_domain.h5', '/home/smets/far/farMe/ionBeam/yao/run/yao-01a/ions_pop_beam_flux.h5', '/home/smets/far/farMe/ionBeam/yao/run/yao-01a/ions_pop_main_density.h5', '/home/smets/far/farMe/ionBeam/yao/run/yao-01a/ions_pop_main_domain.h5', '/home/smets/far/farMe/ionBeam/yao/run/yao-01a/ions_pop_main_flux.h5']\n"
     ]
    },
    {
     "ename": "KeyError",
     "evalue": "'ions_pop_beam_density'",
     "output_type": "error",
     "traceback": [
      "\u001b[0;31m---------------------------------------------------------------------------\u001b[0m",
      "\u001b[0;31mKeyError\u001b[0m                                  Traceback (most recent call last)",
      "Cell \u001b[0;32mIn[27], line 3\u001b[0m\n\u001b[1;32m      1\u001b[0m \u001b[38;5;28mdir\u001b[39m(run)\n\u001b[1;32m      2\u001b[0m \u001b[38;5;28mprint\u001b[39m(run\u001b[38;5;241m.\u001b[39mavailable_diags)\n\u001b[0;32m----> 3\u001b[0m \u001b[43mrun\u001b[49m\u001b[38;5;241;43m.\u001b[39;49m\u001b[43mall_times\u001b[49m\u001b[43m(\u001b[49m\u001b[43m)\u001b[49m\n",
      "File \u001b[0;32m~/codes/far/PHARE/pyphare/pyphare/pharesee/run/run.py:287\u001b[0m, in \u001b[0;36mRun.all_times\u001b[0;34m(self)\u001b[0m\n\u001b[1;32m    285\u001b[0m     \u001b[38;5;28;01mfor\u001b[39;00m it, t \u001b[38;5;129;01min\u001b[39;00m \u001b[38;5;28menumerate\u001b[39m(time_keys):\n\u001b[1;32m    286\u001b[0m         time[it] \u001b[38;5;241m=\u001b[39m \u001b[38;5;28mfloat\u001b[39m(t)\n\u001b[0;32m--> 287\u001b[0m     ts[\u001b[43mquantities_per_file\u001b[49m\u001b[43m[\u001b[49m\u001b[43mbasename\u001b[49m\u001b[43m]\u001b[49m] \u001b[38;5;241m=\u001b[39m time\n\u001b[1;32m    288\u001b[0m     ff\u001b[38;5;241m.\u001b[39mclose()\n\u001b[1;32m    289\u001b[0m \u001b[38;5;28;01mreturn\u001b[39;00m ts\n",
      "\u001b[0;31mKeyError\u001b[0m: 'ions_pop_beam_density'"
     ]
    }
   ],
   "source": [
    "dir(run)\n",
    "print(run.available_diags)\n",
    "run.all_times()"
   ]
  },
  {
   "cell_type": "code",
   "execution_count": 7,
   "id": "05885982-6a27-4560-8cd9-4e8d2996962b",
   "metadata": {
    "editable": true,
    "execution": {
     "iopub.execute_input": "2025-07-02T12:21:35.859361Z",
     "iopub.status.busy": "2025-07-02T12:21:35.858983Z",
     "iopub.status.idle": "2025-07-02T12:21:35.862424Z",
     "shell.execute_reply": "2025-07-02T12:21:35.861956Z",
     "shell.execute_reply.started": "2025-07-02T12:21:35.859344Z"
    },
    "slideshow": {
     "slide_type": ""
    },
    "tags": []
   },
   "outputs": [],
   "source": [
    "time = 10."
   ]
  },
  {
   "cell_type": "code",
   "execution_count": 8,
   "id": "15598961-3799-4f2f-b542-0a5f69a5a99b",
   "metadata": {
    "execution": {
     "iopub.execute_input": "2025-07-02T12:21:36.496431Z",
     "iopub.status.busy": "2025-07-02T12:21:36.495994Z",
     "iopub.status.idle": "2025-07-02T12:21:36.564055Z",
     "shell.execute_reply": "2025-07-02T12:21:36.563476Z",
     "shell.execute_reply.started": "2025-07-02T12:21:36.496416Z"
    }
   },
   "outputs": [],
   "source": [
    "Ni = run.GetNi(time)"
   ]
  },
  {
   "cell_type": "code",
   "execution_count": 9,
   "id": "00c1a49e-727a-4114-89b4-98ef272947e5",
   "metadata": {
    "execution": {
     "iopub.execute_input": "2025-07-02T12:21:37.293697Z",
     "iopub.status.busy": "2025-07-02T12:21:37.293025Z",
     "iopub.status.idle": "2025-07-02T12:21:37.531961Z",
     "shell.execute_reply": "2025-07-02T12:21:37.531229Z",
     "shell.execute_reply.started": "2025-07-02T12:21:37.293679Z"
    }
   },
   "outputs": [
    {
     "ename": "KeyError",
     "evalue": "'rho'",
     "output_type": "error",
     "traceback": [
      "\u001b[0;31m---------------------------------------------------------------------------\u001b[0m",
      "\u001b[0;31mKeyError\u001b[0m                                  Traceback (most recent call last)",
      "Cell \u001b[0;32mIn[9], line 3\u001b[0m\n\u001b[1;32m      1\u001b[0m fig, ax \u001b[38;5;241m=\u001b[39m plt\u001b[38;5;241m.\u001b[39msubplots()\n\u001b[0;32m----> 3\u001b[0m \u001b[43mNi\u001b[49m\u001b[38;5;241;43m.\u001b[39;49m\u001b[43mplot\u001b[49m\u001b[43m(\u001b[49m\u001b[43mqty\u001b[49m\u001b[38;5;241;43m=\u001b[39;49m\u001b[38;5;124;43m\"\u001b[39;49m\u001b[38;5;124;43mrho\u001b[39;49m\u001b[38;5;124;43m\"\u001b[39;49m\u001b[43m,\u001b[49m\n\u001b[1;32m      4\u001b[0m \u001b[43m        \u001b[49m\u001b[43mcmap\u001b[49m\u001b[38;5;241;43m=\u001b[39;49m\u001b[38;5;124;43m\"\u001b[39;49m\u001b[38;5;124;43mviridis_r\u001b[39;49m\u001b[38;5;124;43m\"\u001b[39;49m\u001b[43m,\u001b[49m\n\u001b[1;32m      5\u001b[0m \u001b[43m        \u001b[49m\u001b[43mvmin\u001b[49m\u001b[38;5;241;43m=\u001b[39;49m\u001b[38;5;241;43m0.95\u001b[39;49m\u001b[43m,\u001b[49m\n\u001b[1;32m      6\u001b[0m \u001b[43m        \u001b[49m\u001b[43mvmax\u001b[49m\u001b[38;5;241;43m=\u001b[39;49m\u001b[38;5;241;43m1.05\u001b[39;49m\u001b[43m,\u001b[49m\n\u001b[1;32m      7\u001b[0m \u001b[43m        \u001b[49m\u001b[43mplot_patches\u001b[49m\u001b[38;5;241;43m=\u001b[39;49m\u001b[38;5;28;43;01mTrue\u001b[39;49;00m\u001b[43m,\u001b[49m\n\u001b[1;32m      8\u001b[0m \u001b[43m        \u001b[49m\u001b[43mlw\u001b[49m\u001b[38;5;241;43m=\u001b[39;49m\u001b[43m[\u001b[49m\u001b[38;5;241;43m0.8\u001b[39;49m\u001b[43m]\u001b[49m\u001b[43m,\u001b[49m\n\u001b[1;32m      9\u001b[0m \u001b[43m        \u001b[49m\u001b[43max\u001b[49m\u001b[38;5;241;43m=\u001b[39;49m\u001b[43max\u001b[49m\u001b[43m,\u001b[49m\n\u001b[1;32m     10\u001b[0m \u001b[43m       \u001b[49m\u001b[43m)\u001b[49m\n",
      "File \u001b[0;32m~/codes/far/PHARE/pyphare/pyphare/pharesee/hierarchy/hierarchy.py:563\u001b[0m, in \u001b[0;36mPatchHierarchy.plot\u001b[0;34m(self, **kwargs)\u001b[0m\n\u001b[1;32m    561\u001b[0m     \u001b[38;5;28;01mreturn\u001b[39;00m \u001b[38;5;28mself\u001b[39m\u001b[38;5;241m.\u001b[39mplot1d(\u001b[38;5;241m*\u001b[39m\u001b[38;5;241m*\u001b[39mkwargs)\n\u001b[1;32m    562\u001b[0m \u001b[38;5;28;01melif\u001b[39;00m \u001b[38;5;28mself\u001b[39m\u001b[38;5;241m.\u001b[39mndim \u001b[38;5;241m==\u001b[39m \u001b[38;5;241m2\u001b[39m:\n\u001b[0;32m--> 563\u001b[0m     \u001b[38;5;28;01mreturn\u001b[39;00m \u001b[38;5;28;43mself\u001b[39;49m\u001b[38;5;241;43m.\u001b[39;49m\u001b[43mplot2d\u001b[49m\u001b[43m(\u001b[49m\u001b[38;5;241;43m*\u001b[39;49m\u001b[38;5;241;43m*\u001b[39;49m\u001b[43mkwargs\u001b[49m\u001b[43m)\u001b[49m\n",
      "File \u001b[0;32m~/codes/far/PHARE/pyphare/pyphare/pharesee/hierarchy/hierarchy.py:476\u001b[0m, in \u001b[0;36mPatchHierarchy.plot2d\u001b[0;34m(self, **kwargs)\u001b[0m\n\u001b[1;32m    473\u001b[0m     ax \u001b[38;5;241m=\u001b[39m kwargs[\u001b[38;5;124m\"\u001b[39m\u001b[38;5;124max\u001b[39m\u001b[38;5;124m\"\u001b[39m]\n\u001b[1;32m    474\u001b[0m     fig \u001b[38;5;241m=\u001b[39m ax\u001b[38;5;241m.\u001b[39mfigure\n\u001b[0;32m--> 476\u001b[0m glob_min \u001b[38;5;241m=\u001b[39m \u001b[38;5;28;43mself\u001b[39;49m\u001b[38;5;241;43m.\u001b[39;49m\u001b[43mglobal_min\u001b[49m\u001b[43m(\u001b[49m\u001b[43mqty\u001b[49m\u001b[43m)\u001b[49m\n\u001b[1;32m    477\u001b[0m glob_max \u001b[38;5;241m=\u001b[39m \u001b[38;5;28mself\u001b[39m\u001b[38;5;241m.\u001b[39mglobal_max(qty)\n\u001b[1;32m    478\u001b[0m \u001b[38;5;66;03m# assumes max 5 levels...\u001b[39;00m\n",
      "File \u001b[0;32m~/codes/far/PHARE/pyphare/pyphare/pharesee/hierarchy/hierarchy.py:276\u001b[0m, in \u001b[0;36mPatchHierarchy.global_min\u001b[0;34m(self, qty, **kwargs)\u001b[0m\n\u001b[1;32m    274\u001b[0m \u001b[38;5;28;01mfor\u001b[39;00m ilvl, lvl \u001b[38;5;129;01min\u001b[39;00m \u001b[38;5;28mself\u001b[39m\u001b[38;5;241m.\u001b[39mlevels(time)\u001b[38;5;241m.\u001b[39mitems():\n\u001b[1;32m    275\u001b[0m     \u001b[38;5;28;01mfor\u001b[39;00m patch \u001b[38;5;129;01min\u001b[39;00m lvl\u001b[38;5;241m.\u001b[39mpatches:\n\u001b[0;32m--> 276\u001b[0m         pd \u001b[38;5;241m=\u001b[39m \u001b[43mpatch\u001b[49m\u001b[38;5;241;43m.\u001b[39;49m\u001b[43mpatch_datas\u001b[49m\u001b[43m[\u001b[49m\u001b[43mqty\u001b[49m\u001b[43m]\u001b[49m\n\u001b[1;32m    277\u001b[0m         \u001b[38;5;28;01mif\u001b[39;00m first:\n\u001b[1;32m    278\u001b[0m             m \u001b[38;5;241m=\u001b[39m np\u001b[38;5;241m.\u001b[39mnanmin(pd\u001b[38;5;241m.\u001b[39mdataset[:])\n",
      "\u001b[0;31mKeyError\u001b[0m: 'rho'"
     ]
    },
    {
     "data": {
      "image/png": "[encoded data removed]",
      "text/plain": [
       "<Figure size 640x480 with 1 Axes>"
      ]
     },
     "metadata": {},
     "output_type": "display_data"
    }
   ],
   "source": [
    "fig, ax = plt.subplots()\n",
    "\n",
    "Ni.plot(qty=\"rho\",\n",
    "        cmap=\"viridis_r\",\n",
    "        vmin=0.95,\n",
    "        vmax=1.05,\n",
    "        plot_patches=True,\n",
    "        lw=[0.8],\n",
    "        ax=ax,\n",
    "       )"
   ]
  },
  {
   "cell_type": "code",
   "execution_count": 10,
   "id": "a7782c59-a05a-4595-bfd9-374d236981c5",
   "metadata": {
    "execution": {
     "iopub.execute_input": "2025-07-02T12:21:51.439365Z",
     "iopub.status.busy": "2025-07-02T12:21:51.438989Z",
     "iopub.status.idle": "2025-07-02T12:21:51.480909Z",
     "shell.execute_reply": "2025-07-02T12:21:51.480213Z",
     "shell.execute_reply.started": "2025-07-02T12:21:51.439347Z"
    }
   },
   "outputs": [],
   "source": [
    "E = run.GetE(time)"
   ]
  },
  {
   "cell_type": "code",
   "execution_count": 11,
   "id": "76f289d9-fcd7-4ca9-8bca-4793b7558a9e",
   "metadata": {
    "execution": {
     "iopub.execute_input": "2025-07-02T12:21:51.994183Z",
     "iopub.status.busy": "2025-07-02T12:21:51.993765Z",
     "iopub.status.idle": "2025-07-02T12:21:52.106793Z",
     "shell.execute_reply": "2025-07-02T12:21:52.106105Z",
     "shell.execute_reply.started": "2025-07-02T12:21:51.994166Z"
    }
   },
   "outputs": [
    {
     "ename": "KeyError",
     "evalue": "'Ex'",
     "output_type": "error",
     "traceback": [
      "\u001b[0;31m---------------------------------------------------------------------------\u001b[0m",
      "\u001b[0;31mKeyError\u001b[0m                                  Traceback (most recent call last)",
      "Cell \u001b[0;32mIn[11], line 1\u001b[0m\n\u001b[0;32m----> 1\u001b[0m \u001b[43mE\u001b[49m\u001b[38;5;241;43m.\u001b[39;49m\u001b[43mplot\u001b[49m\u001b[43m(\u001b[49m\u001b[43mqty\u001b[49m\u001b[38;5;241;43m=\u001b[39;49m\u001b[38;5;124;43m\"\u001b[39;49m\u001b[38;5;124;43mEx\u001b[39;49m\u001b[38;5;124;43m\"\u001b[39;49m\u001b[43m,\u001b[49m\n\u001b[1;32m      2\u001b[0m \u001b[43m        \u001b[49m\u001b[43mcmap\u001b[49m\u001b[38;5;241;43m=\u001b[39;49m\u001b[38;5;124;43m\"\u001b[39;49m\u001b[38;5;124;43mviridis_r\u001b[39;49m\u001b[38;5;124;43m\"\u001b[39;49m\u001b[43m,\u001b[49m\n\u001b[1;32m      3\u001b[0m \u001b[43m        \u001b[49m\u001b[43mvmin\u001b[49m\u001b[38;5;241;43m=\u001b[39;49m\u001b[38;5;241;43m-\u001b[39;49m\u001b[38;5;241;43m0.2\u001b[39;49m\u001b[43m,\u001b[49m\n\u001b[1;32m      4\u001b[0m \u001b[43m        \u001b[49m\u001b[43mvmax\u001b[49m\u001b[38;5;241;43m=\u001b[39;49m\u001b[38;5;241;43m+\u001b[39;49m\u001b[38;5;241;43m0.2\u001b[39;49m\u001b[43m,\u001b[49m\n\u001b[1;32m      5\u001b[0m \u001b[43m       \u001b[49m\u001b[43m)\u001b[49m\n",
      "File \u001b[0;32m~/codes/far/PHARE/pyphare/pyphare/pharesee/hierarchy/hierarchy.py:563\u001b[0m, in \u001b[0;36mPatchHierarchy.plot\u001b[0;34m(self, **kwargs)\u001b[0m\n\u001b[1;32m    561\u001b[0m     \u001b[38;5;28;01mreturn\u001b[39;00m \u001b[38;5;28mself\u001b[39m\u001b[38;5;241m.\u001b[39mplot1d(\u001b[38;5;241m*\u001b[39m\u001b[38;5;241m*\u001b[39mkwargs)\n\u001b[1;32m    562\u001b[0m \u001b[38;5;28;01melif\u001b[39;00m \u001b[38;5;28mself\u001b[39m\u001b[38;5;241m.\u001b[39mndim \u001b[38;5;241m==\u001b[39m \u001b[38;5;241m2\u001b[39m:\n\u001b[0;32m--> 563\u001b[0m     \u001b[38;5;28;01mreturn\u001b[39;00m \u001b[38;5;28;43mself\u001b[39;49m\u001b[38;5;241;43m.\u001b[39;49m\u001b[43mplot2d\u001b[49m\u001b[43m(\u001b[49m\u001b[38;5;241;43m*\u001b[39;49m\u001b[38;5;241;43m*\u001b[39;49m\u001b[43mkwargs\u001b[49m\u001b[43m)\u001b[49m\n",
      "File \u001b[0;32m~/codes/far/PHARE/pyphare/pyphare/pharesee/hierarchy/hierarchy.py:476\u001b[0m, in \u001b[0;36mPatchHierarchy.plot2d\u001b[0;34m(self, **kwargs)\u001b[0m\n\u001b[1;32m    473\u001b[0m     ax \u001b[38;5;241m=\u001b[39m kwargs[\u001b[38;5;124m\"\u001b[39m\u001b[38;5;124max\u001b[39m\u001b[38;5;124m\"\u001b[39m]\n\u001b[1;32m    474\u001b[0m     fig \u001b[38;5;241m=\u001b[39m ax\u001b[38;5;241m.\u001b[39mfigure\n\u001b[0;32m--> 476\u001b[0m glob_min \u001b[38;5;241m=\u001b[39m \u001b[38;5;28;43mself\u001b[39;49m\u001b[38;5;241;43m.\u001b[39;49m\u001b[43mglobal_min\u001b[49m\u001b[43m(\u001b[49m\u001b[43mqty\u001b[49m\u001b[43m)\u001b[49m\n\u001b[1;32m    477\u001b[0m glob_max \u001b[38;5;241m=\u001b[39m \u001b[38;5;28mself\u001b[39m\u001b[38;5;241m.\u001b[39mglobal_max(qty)\n\u001b[1;32m    478\u001b[0m \u001b[38;5;66;03m# assumes max 5 levels...\u001b[39;00m\n",
      "File \u001b[0;32m~/codes/far/PHARE/pyphare/pyphare/pharesee/hierarchy/hierarchy.py:276\u001b[0m, in \u001b[0;36mPatchHierarchy.global_min\u001b[0;34m(self, qty, **kwargs)\u001b[0m\n\u001b[1;32m    274\u001b[0m \u001b[38;5;28;01mfor\u001b[39;00m ilvl, lvl \u001b[38;5;129;01min\u001b[39;00m \u001b[38;5;28mself\u001b[39m\u001b[38;5;241m.\u001b[39mlevels(time)\u001b[38;5;241m.\u001b[39mitems():\n\u001b[1;32m    275\u001b[0m     \u001b[38;5;28;01mfor\u001b[39;00m patch \u001b[38;5;129;01min\u001b[39;00m lvl\u001b[38;5;241m.\u001b[39mpatches:\n\u001b[0;32m--> 276\u001b[0m         pd \u001b[38;5;241m=\u001b[39m \u001b[43mpatch\u001b[49m\u001b[38;5;241;43m.\u001b[39;49m\u001b[43mpatch_datas\u001b[49m\u001b[43m[\u001b[49m\u001b[43mqty\u001b[49m\u001b[43m]\u001b[49m\n\u001b[1;32m    277\u001b[0m         \u001b[38;5;28;01mif\u001b[39;00m first:\n\u001b[1;32m    278\u001b[0m             m \u001b[38;5;241m=\u001b[39m np\u001b[38;5;241m.\u001b[39mnanmin(pd\u001b[38;5;241m.\u001b[39mdataset[:])\n",
      "\u001b[0;31mKeyError\u001b[0m: 'Ex'"
     ]
    },
    {
     "data": {
      "image/png": "[encoded data removed]",
      "text/plain": [
       "<Figure size 640x480 with 1 Axes>"
      ]
     },
     "metadata": {},
     "output_type": "display_data"
    }
   ],
   "source": [
    "E.plot(qty=\"Ex\",\n",
    "        cmap=\"viridis_r\",\n",
    "        vmin=-0.2,\n",
    "        vmax=+0.2,\n",
    "       )"
   ]
  },
  {
   "cell_type": "code",
   "execution_count": 12,
   "id": "d3167342-2957-48b1-9b5c-66adfa0b1028",
   "metadata": {
    "execution": {
     "iopub.execute_input": "2025-07-02T12:21:54.860169Z",
     "iopub.status.busy": "2025-07-02T12:21:54.859793Z",
     "iopub.status.idle": "2025-07-02T12:21:54.873574Z",
     "shell.execute_reply": "2025-07-02T12:21:54.872947Z",
     "shell.execute_reply.started": "2025-07-02T12:21:54.860152Z"
    }
   },
   "outputs": [
    {
     "ename": "NameError",
     "evalue": "name 'get_times_from_h5' is not defined",
     "output_type": "error",
     "traceback": [
      "\u001b[0;31m---------------------------------------------------------------------------\u001b[0m",
      "\u001b[0;31mNameError\u001b[0m                                 Traceback (most recent call last)",
      "Cell \u001b[0;32mIn[12], line 2\u001b[0m\n\u001b[1;32m      1\u001b[0m file \u001b[38;5;241m=\u001b[39m \u001b[38;5;124m\"\u001b[39m\u001b[38;5;124mions_pop_beam_domain.h5\u001b[39m\u001b[38;5;124m\"\u001b[39m\n\u001b[0;32m----> 2\u001b[0m times \u001b[38;5;241m=\u001b[39m \u001b[43mget_times_from_h5\u001b[49m(path_to_run\u001b[38;5;241m+\u001b[39mfile)\n\u001b[1;32m      3\u001b[0m \u001b[38;5;28mprint\u001b[39m(times)\n",
      "\u001b[0;31mNameError\u001b[0m: name 'get_times_from_h5' is not defined"
     ]
    }
   ],
   "source": [
    "file = \"ions_pop_beam_domain.h5\"\n",
    "times = get_times_from_h5(path_to_run+file)\n",
    "print(times)"
   ]
  },
  {
   "cell_type": "code",
   "execution_count": 13,
   "id": "df3e4f1f-42c4-477e-9b2c-ef9b7f75a757",
   "metadata": {
    "execution": {
     "iopub.execute_input": "2025-07-02T12:21:55.570639Z",
     "iopub.status.busy": "2025-07-02T12:21:55.570288Z",
     "iopub.status.idle": "2025-07-02T12:21:55.782185Z",
     "shell.execute_reply": "2025-07-02T12:21:55.781535Z",
     "shell.execute_reply.started": "2025-07-02T12:21:55.570622Z"
    }
   },
   "outputs": [
    {
     "name": "stdout",
     "output_type": "stream",
     "text": [
      "WARNING - hierarchy is not homogeneous\n"
     ]
    }
   ],
   "source": [
    "ions = run.GetParticles(time, [\"beam\", \"main\"])\n",
    "# ions = run.GetParticles(time, [\"main\"])"
   ]
  },
  {
   "cell_type": "code",
   "execution_count": 14,
   "id": "bf69eee3-9a68-48fa-9afd-b8e7333bb949",
   "metadata": {
    "execution": {
     "iopub.execute_input": "2025-07-02T12:21:56.123713Z",
     "iopub.status.busy": "2025-07-02T12:21:56.123462Z",
     "iopub.status.idle": "2025-07-02T12:21:56.127028Z",
     "shell.execute_reply": "2025-07-02T12:21:56.126527Z",
     "shell.execute_reply.started": "2025-07-02T12:21:56.123697Z"
    }
   },
   "outputs": [
    {
     "name": "stdout",
     "output_type": "stream",
     "text": [
      "dict_keys(['main_domain'])\n"
     ]
    }
   ],
   "source": [
    "for ilvl, lvl in ions.levels(time).items():\n",
    "    for patch in lvl.patches:\n",
    "        print(patch.patch_datas.keys())\n",
    "        break"
   ]
  },
  {
   "cell_type": "code",
   "execution_count": 15,
   "id": "53202d24-339f-4e6f-bac5-685546119307",
   "metadata": {
    "execution": {
     "iopub.execute_input": "2025-07-02T12:21:56.677255Z",
     "iopub.status.busy": "2025-07-02T12:21:56.677071Z",
     "iopub.status.idle": "2025-07-02T12:21:56.833744Z",
     "shell.execute_reply": "2025-07-02T12:21:56.833054Z",
     "shell.execute_reply.started": "2025-07-02T12:21:56.677240Z"
    }
   },
   "outputs": [
    {
     "ename": "KeyError",
     "evalue": "'beam_domain'",
     "output_type": "error",
     "traceback": [
      "\u001b[0;31m---------------------------------------------------------------------------\u001b[0m",
      "\u001b[0;31mKeyError\u001b[0m                                  Traceback (most recent call last)",
      "Cell \u001b[0;32mIn[15], line 5\u001b[0m\n\u001b[1;32m      1\u001b[0m fig, ax \u001b[38;5;241m=\u001b[39m plt\u001b[38;5;241m.\u001b[39msubplots()\n\u001b[1;32m      3\u001b[0m vmin, vmax \u001b[38;5;241m=\u001b[39m \u001b[38;5;241m-\u001b[39m\u001b[38;5;241m3.0\u001b[39m,\u001b[38;5;241m+\u001b[39m\u001b[38;5;241m8.0\u001b[39m\n\u001b[0;32m----> 5\u001b[0m \u001b[43mions\u001b[49m\u001b[38;5;241;43m.\u001b[39;49m\u001b[43mdist_plot\u001b[49m\u001b[43m(\u001b[49m\u001b[43maxis\u001b[49m\u001b[38;5;241;43m=\u001b[39;49m\u001b[43m(\u001b[49m\u001b[38;5;124;43m\"\u001b[39;49m\u001b[38;5;124;43mx\u001b[39;49m\u001b[38;5;124;43m\"\u001b[39;49m\u001b[43m,\u001b[49m\u001b[43m \u001b[49m\u001b[38;5;124;43m\"\u001b[39;49m\u001b[38;5;124;43mVx\u001b[39;49m\u001b[38;5;124;43m\"\u001b[39;49m\u001b[43m)\u001b[49m\u001b[43m,\u001b[49m\n\u001b[1;32m      6\u001b[0m \u001b[43m    \u001b[49m\u001b[43max\u001b[49m\u001b[43m \u001b[49m\u001b[38;5;241;43m=\u001b[39;49m\u001b[43m \u001b[49m\u001b[43max\u001b[49m\u001b[43m,\u001b[49m\n\u001b[1;32m      7\u001b[0m \u001b[43m    \u001b[49m\u001b[43mnorm\u001b[49m\u001b[43m \u001b[49m\u001b[38;5;241;43m=\u001b[39;49m\u001b[43m \u001b[49m\u001b[38;5;241;43m0.4\u001b[39;49m\u001b[43m,\u001b[49m\n\u001b[1;32m      8\u001b[0m \u001b[43m    \u001b[49m\u001b[43mfinest\u001b[49m\u001b[38;5;241;43m=\u001b[39;49m\u001b[38;5;28;43;01mTrue\u001b[39;49;00m\u001b[43m,\u001b[49m\n\u001b[1;32m      9\u001b[0m \u001b[43m    \u001b[49m\u001b[43mgaussian_filter_sigma\u001b[49m\u001b[43m \u001b[49m\u001b[38;5;241;43m=\u001b[39;49m\u001b[43m \u001b[49m\u001b[43m(\u001b[49m\u001b[38;5;241;43m1\u001b[39;49m\u001b[43m,\u001b[49m\u001b[38;5;241;43m1\u001b[39;49m\u001b[43m)\u001b[49m\u001b[43m \u001b[49m\u001b[43m,\u001b[49m\n\u001b[1;32m     10\u001b[0m \u001b[43m    \u001b[49m\u001b[43mvmin\u001b[49m\u001b[38;5;241;43m=\u001b[39;49m\u001b[43mvmin\u001b[49m\u001b[43m,\u001b[49m\u001b[43mvmax\u001b[49m\u001b[38;5;241;43m=\u001b[39;49m\u001b[43mvmax\u001b[49m\u001b[43m,\u001b[49m\n\u001b[1;32m     11\u001b[0m \u001b[43m    \u001b[49m\u001b[43mdv\u001b[49m\u001b[38;5;241;43m=\u001b[39;49m\u001b[38;5;241;43m0.05\u001b[39;49m\u001b[43m,\u001b[49m\n\u001b[1;32m     12\u001b[0m \u001b[43m    \u001b[49m\u001b[43mtitle\u001b[49m\u001b[38;5;241;43m=\u001b[39;49m\u001b[38;5;124;43m\"\u001b[39;49m\u001b[38;5;124;43mtime = \u001b[39;49m\u001b[38;5;132;43;01m{:.1f}\u001b[39;49;00m\u001b[38;5;124;43m\"\u001b[39;49m\u001b[38;5;241;43m.\u001b[39;49m\u001b[43mformat\u001b[49m\u001b[43m(\u001b[49m\u001b[43mtime\u001b[49m\u001b[43m)\u001b[49m\u001b[43m,\u001b[49m\n\u001b[1;32m     13\u001b[0m \u001b[43m    \u001b[49m\u001b[43mxlabel\u001b[49m\u001b[43m \u001b[49m\u001b[38;5;241;43m=\u001b[39;49m\u001b[43m \u001b[49m\u001b[38;5;124;43m\"\u001b[39;49m\u001b[38;5;124;43m\"\u001b[39;49m\u001b[43m,\u001b[49m\n\u001b[1;32m     14\u001b[0m \u001b[43m    \u001b[49m\u001b[43mylabel\u001b[49m\u001b[43m \u001b[49m\u001b[38;5;241;43m=\u001b[39;49m\u001b[43m \u001b[49m\u001b[38;5;124;43m\"\u001b[39;49m\u001b[38;5;124;43m\"\u001b[39;49m\n\u001b[1;32m     15\u001b[0m \u001b[43m    \u001b[49m\u001b[43m)\u001b[49m\n",
      "File \u001b[0;32m~/codes/far/PHARE/pyphare/pyphare/pharesee/hierarchy/hierarchy.py:586\u001b[0m, in \u001b[0;36mPatchHierarchy.dist_plot\u001b[0;34m(self, **kwargs)\u001b[0m\n\u001b[1;32m    583\u001b[0m vbins \u001b[38;5;241m=\u001b[39m vmin \u001b[38;5;241m+\u001b[39m dv \u001b[38;5;241m*\u001b[39m np\u001b[38;5;241m.\u001b[39marange(\u001b[38;5;28mint\u001b[39m((vmax \u001b[38;5;241m-\u001b[39m vmin) \u001b[38;5;241m/\u001b[39m dv))\n\u001b[1;32m    585\u001b[0m \u001b[38;5;28;01mif\u001b[39;00m finest:\n\u001b[0;32m--> 586\u001b[0m     final \u001b[38;5;241m=\u001b[39m \u001b[43mfinest_part_data\u001b[49m\u001b[43m(\u001b[49m\u001b[38;5;28;43mself\u001b[39;49m\u001b[43m)\u001b[49m\n\u001b[1;32m    587\u001b[0m     \u001b[38;5;28;01mif\u001b[39;00m axis[\u001b[38;5;241m0\u001b[39m] \u001b[38;5;241m==\u001b[39m \u001b[38;5;124m\"\u001b[39m\u001b[38;5;124mx\u001b[39m\u001b[38;5;124m\"\u001b[39m:\n\u001b[1;32m    588\u001b[0m         xbins \u001b[38;5;241m=\u001b[39m amr_grid(\u001b[38;5;28mself\u001b[39m, time)\n",
      "File \u001b[0;32m~/codes/far/PHARE/pyphare/pyphare/pharesee/hierarchy/hierarchy.py:650\u001b[0m, in \u001b[0;36mfinest_part_data\u001b[0;34m(hierarchy, time)\u001b[0m\n\u001b[1;32m    646\u001b[0m \u001b[38;5;28;01mfor\u001b[39;00m popname, pdata \u001b[38;5;129;01min\u001b[39;00m patch\u001b[38;5;241m.\u001b[39mpatch_datas\u001b[38;5;241m.\u001b[39mitems():\n\u001b[1;32m    647\u001b[0m     \u001b[38;5;66;03m# if we're at the finest level\u001b[39;00m\n\u001b[1;32m    648\u001b[0m     \u001b[38;5;66;03m# we need to keep all particles\u001b[39;00m\n\u001b[1;32m    649\u001b[0m     \u001b[38;5;28;01mif\u001b[39;00m ilvl \u001b[38;5;241m==\u001b[39m hierarchy\u001b[38;5;241m.\u001b[39mfinest_level(time):\n\u001b[0;32m--> 650\u001b[0m         \u001b[38;5;28;01mif\u001b[39;00m \u001b[43mparticles\u001b[49m\u001b[43m[\u001b[49m\u001b[43mpopname\u001b[49m\u001b[43m]\u001b[49m \u001b[38;5;129;01mis\u001b[39;00m \u001b[38;5;28;01mNone\u001b[39;00m:\n\u001b[1;32m    651\u001b[0m             particles[popname] \u001b[38;5;241m=\u001b[39m deepcopy(pdata\u001b[38;5;241m.\u001b[39mdataset)\n\u001b[1;32m    652\u001b[0m         \u001b[38;5;28;01melse\u001b[39;00m:\n",
      "\u001b[0;31mKeyError\u001b[0m: 'beam_domain'"
     ]
    },
    {
     "data": {
      "image/png": "[encoded data removed]",
      "text/plain": [
       "<Figure size 640x480 with 1 Axes>"
      ]
     },
     "metadata": {},
     "output_type": "display_data"
    }
   ],
   "source": [
    "fig, ax = plt.subplots()\n",
    "\n",
    "vmin, vmax = -3.0,+8.0\n",
    "\n",
    "ions.dist_plot(axis=(\"x\", \"Vx\"),\n",
    "    ax = ax,\n",
    "    norm = 0.4,\n",
    "    finest=True,\n",
    "    gaussian_filter_sigma = (1,1) ,\n",
    "    vmin=vmin,vmax=vmax,\n",
    "    dv=0.05,\n",
    "    title=\"time = {:.1f}\".format(time),\n",
    "    xlabel = \"\",\n",
    "    ylabel = \"\"\n",
    "    )"
   ]
  },
  {
   "cell_type": "markdown",
   "id": "db207222-23b2-4ce9-a930-f4b7d3bacede",
   "metadata": {},
   "source": [
    "Each `PatchLevel` itself has a collection of patches obtainable as a simple list. Here we print the patch ID for each patch of each level.\\\n",
    "The patch ID is just MPI_Rank#localPatchID"
   ]
  },
  {
   "cell_type": "code",
   "execution_count": 16,
   "id": "aa1abbf4-84cf-4fb5-a8d2-f55b57ffd894",
   "metadata": {
    "execution": {
     "iopub.execute_input": "2025-07-02T12:21:57.904122Z",
     "iopub.status.busy": "2025-07-02T12:21:57.903586Z",
     "iopub.status.idle": "2025-07-02T12:21:57.907258Z",
     "shell.execute_reply": "2025-07-02T12:21:57.906754Z",
     "shell.execute_reply.started": "2025-07-02T12:21:57.904104Z"
    }
   },
   "outputs": [
    {
     "name": "stdout",
     "output_type": "stream",
     "text": [
      "p0#0\n",
      "p1#1\n",
      "p10#10\n",
      "p11#11\n",
      "p12#12\n",
      "p13#13\n",
      "p14#14\n",
      "p15#15\n",
      "p16#16\n",
      "p17#17\n",
      "p18#18\n",
      "p19#19\n",
      "p2#2\n",
      "p3#3\n",
      "p4#4\n",
      "p5#5\n",
      "p6#6\n",
      "p7#7\n",
      "p8#8\n",
      "p9#9\n"
     ]
    }
   ],
   "source": [
    "for ilvl, lvl in E.levels(time).items():\n",
    "    for patch in lvl.patches:\n",
    "        print(patch.id)\n",
    "        # break  # break not to have a huge list printed"
   ]
  },
  {
   "cell_type": "markdown",
   "id": "40b8a3eb-f717-4a52-a99c-f399f31b83aa",
   "metadata": {},
   "source": [
    "Let's practice a bit and for instance count how many patches there are in each level:"
   ]
  },
  {
   "cell_type": "code",
   "execution_count": 17,
   "id": "b1a0a7c3-24cd-41e9-96c3-1c5ea714eb9f",
   "metadata": {
    "execution": {
     "iopub.execute_input": "2025-07-02T12:21:59.048461Z",
     "iopub.status.busy": "2025-07-02T12:21:59.048139Z",
     "iopub.status.idle": "2025-07-02T12:21:59.051888Z",
     "shell.execute_reply": "2025-07-02T12:21:59.051387Z",
     "shell.execute_reply.started": "2025-07-02T12:21:59.048445Z"
    }
   },
   "outputs": [
    {
     "name": "stdout",
     "output_type": "stream",
     "text": [
      "{0: 20}\n"
     ]
    }
   ],
   "source": [
    "count = {}\n",
    "for ilvl, lvl in E.levels(time).items():\n",
    "    count[ilvl] = len(lvl.patches)\n",
    "print(count)"
   ]
  },
  {
   "cell_type": "markdown",
   "id": "3efbdc86-47b2-4024-b093-defb7cde9a83",
   "metadata": {},
   "source": [
    "and now a more complex example, let's make a histogram of the number of cells per level\\\n",
    "Here we use the fact that a `Patch` is an object that has a `Box` representing its domain, for which the number of cells can be obtained with the method `nCells()`"
   ]
  },
  {
   "cell_type": "code",
   "execution_count": 18,
   "id": "01b97bfd-8c4e-424b-8387-0b2bf6a6f718",
   "metadata": {
    "execution": {
     "iopub.execute_input": "2025-07-02T12:22:00.236409Z",
     "iopub.status.busy": "2025-07-02T12:22:00.235823Z",
     "iopub.status.idle": "2025-07-02T12:22:00.686486Z",
     "shell.execute_reply": "2025-07-02T12:22:00.685789Z",
     "shell.execute_reply.started": "2025-07-02T12:22:00.236391Z"
    }
   },
   "outputs": [
    {
     "name": "stdout",
     "output_type": "stream",
     "text": [
      "{0: [1520, 1480, 1520, 1480, 1560, 1470, 1470, 1520, 1480, 1560, 1470, 1470, 1560, 1470, 1470, 1520, 1480, 1560, 1470, 1470]}\n"
     ]
    },
    {
     "ename": "KeyError",
     "evalue": "1",
     "output_type": "error",
     "traceback": [
      "\u001b[0;31m---------------------------------------------------------------------------\u001b[0m",
      "\u001b[0;31mKeyError\u001b[0m                                  Traceback (most recent call last)",
      "Cell \u001b[0;32mIn[18], line 9\u001b[0m\n\u001b[1;32m      7\u001b[0m fig, (ax1,ax2,ax3) \u001b[38;5;241m=\u001b[39m plt\u001b[38;5;241m.\u001b[39msubplots(ncols\u001b[38;5;241m=\u001b[39m\u001b[38;5;241m3\u001b[39m, figsize\u001b[38;5;241m=\u001b[39m(\u001b[38;5;241m10\u001b[39m,\u001b[38;5;241m4\u001b[39m))\n\u001b[1;32m      8\u001b[0m \u001b[38;5;28;01mfor\u001b[39;00m ilvl,ax \u001b[38;5;129;01min\u001b[39;00m \u001b[38;5;28menumerate\u001b[39m((ax1,ax2, ax3)):\n\u001b[0;32m----> 9\u001b[0m     ax\u001b[38;5;241m.\u001b[39mhist(\u001b[43mcells\u001b[49m\u001b[43m[\u001b[49m\u001b[43milvl\u001b[49m\u001b[43m]\u001b[49m, bins\u001b[38;5;241m=\u001b[39m\u001b[38;5;241m10\u001b[39m)\n\u001b[1;32m     10\u001b[0m     ax\u001b[38;5;241m.\u001b[39mset_title(\u001b[38;5;124mf\u001b[39m\u001b[38;5;124m\"\u001b[39m\u001b[38;5;124mLevel \u001b[39m\u001b[38;5;132;01m{\u001b[39;00milvl\u001b[38;5;132;01m}\u001b[39;00m\u001b[38;5;124m\"\u001b[39m)\n\u001b[1;32m     11\u001b[0m     \u001b[38;5;66;03m#ax.set_xscale(\"log\")\u001b[39;00m\n",
      "\u001b[0;31mKeyError\u001b[0m: 1"
     ]
    },
    {
     "data": {
      "image/png": "[encoded data removed]",
      "text/plain": [
       "<Figure size 1000x400 with 3 Axes>"
      ]
     },
     "metadata": {},
     "output_type": "display_data"
    }
   ],
   "source": [
    "cells = {ilvl:[] for ilvl in E.levels(time).keys()}\n",
    "for ilvl, lvl in E.levels(time).items():\n",
    "    for patch in lvl.patches:\n",
    "        cells[ilvl] += [ patch.box.nCells() ]\n",
    "print(cells)\n",
    "    \n",
    "fig, (ax1,ax2,ax3) = plt.subplots(ncols=3, figsize=(10,4))\n",
    "for ilvl,ax in enumerate((ax1,ax2, ax3)):\n",
    "    ax.hist(cells[ilvl], bins=10)\n",
    "    ax.set_title(f\"Level {ilvl}\")\n",
    "    #ax.set_xscale(\"log\")\n",
    "    ax.set_yscale(\"log\")\n",
    "fig.tight_layout()"
   ]
  },
  {
   "cell_type": "code",
   "execution_count": null,
   "id": "7c24bf2e-adef-45fd-9816-e4516d53b455",
   "metadata": {},
   "outputs": [],
   "source": []
  }
 ],
 "metadata": {
  "kernelspec": {
   "display_name": "hpc/python3",
   "language": "python",
   "name": "conda-env-hpc-py"
  },
  "language_info": {
   "codemirror_mode": {
    "name": "ipython",
    "version": 3
   },
   "file_extension": ".py",
   "mimetype": "text/x-python",
   "name": "python",
   "nbconvert_exporter": "python",
   "pygments_lexer": "ipython3",
   "version": "3.10.16"
  }
 },
 "nbformat": 4,
 "nbformat_minor": 5
}
